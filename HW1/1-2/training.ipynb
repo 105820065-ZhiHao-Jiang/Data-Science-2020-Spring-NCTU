{
 "metadata": {
  "language_info": {
   "codemirror_mode": {
    "name": "ipython",
    "version": 3
   },
   "file_extension": ".py",
   "mimetype": "text/x-python",
   "name": "python",
   "nbconvert_exporter": "python",
   "pygments_lexer": "ipython3",
   "version": "3.6.6-final"
  },
  "orig_nbformat": 2,
  "kernelspec": {
   "name": "Python 3.6.6 64-bit ('DS_hw1_2': conda)",
   "display_name": "Python 3.6.6 64-bit ('DS_hw1_2': conda)",
   "metadata": {
    "interpreter": {
     "hash": "5cb71a230f220b52020845f1a55222cad2335f7f5ed4ac5dcabdfc6cd4959c55"
    }
   }
  }
 },
 "nbformat": 4,
 "nbformat_minor": 2,
 "cells": [
  {
   "cell_type": "code",
   "execution_count": 1,
   "metadata": {},
   "outputs": [],
   "source": [
    "import os\n",
    "import numpy as np\n",
    "import time\n",
    "from PIL import Image\n",
    "import utils\n",
    "\n",
    "from tqdm import notebook\n",
    "def tqdm(x, **kargs):\n",
    "    return notebook.tqdm(x, leave=False, **kargs)\n",
    "\n",
    "import torch\n",
    "import torch.nn as nn\n",
    "import torch.optim as optim\n",
    "import torch.nn.functional as F\n",
    "from torch.utils.data.dataset import Dataset\n",
    "import torchvision.transforms as transforms\n",
    "import torchvision.models as models\n",
    "\n",
    "from efficientnet_pytorch import EfficientNet\n",
    "\n",
    "from sklearn.metrics import f1_score, precision_recall_fscore_support"
   ]
  },
  {
   "cell_type": "code",
   "execution_count": 2,
   "metadata": {},
   "outputs": [],
   "source": [
    "class customDataset(Dataset):\n",
    "    def __init__(self, datatype, transform):\n",
    "        ##############################################\n",
    "        ### Initialize paths, transforms, and so on\n",
    "        ##############################################\n",
    "        self.transform = transform\n",
    "\n",
    "        filename = open('./crawling/{}_list'.format(datatype), 'r')\n",
    "        info = filename.readlines()\n",
    "        self.images = [row.split(',')[0] for row in info]\n",
    "        self.labels = [int(row.split(',')[1].strip()) for row in info]\n",
    "        \n",
    "        assert len(self.images) == len(self.labels), 'mismatched length!'\n",
    "        print(\"image shape: {}, label shape: {}\".format(len(self.images), len(self.labels)))\n",
    "        \n",
    "        \n",
    "    def __getitem__(self, index):\n",
    "        ##############################################\n",
    "        # 1. Read from file (using numpy.fromfile, PIL.Image.open)\n",
    "        # 2. Preprocess the data (torchvision.Transform).\n",
    "        # 3. Return the data (e.g. image and label)\n",
    "        ##############################################\n",
    "        \n",
    "        image = Image.open(self.images[index]).convert('RGB')\n",
    "        label = self.labels[index]\n",
    "        \n",
    "        if self.transform is not None:\n",
    "            image = self.transform(image)\n",
    "        return image, label\n",
    "        \n",
    "    def __len__(self):\n",
    "        ##############################################\n",
    "        ### Indicate the total size of the dataset\n",
    "        ##############################################\n",
    "        return len(self.images)"
   ]
  },
  {
   "cell_type": "code",
   "execution_count": 3,
   "metadata": {},
   "outputs": [],
   "source": [
    "batch_size = 32\n",
    "num_workers = 10\n",
    "# min (100, 100), max (5792, 8688)\n",
    "resize_size = (224, 224)\n",
    "MODEL = 'efficientnet-b4'\n",
    "# MODEL = 'CUSTOM'"
   ]
  },
  {
   "cell_type": "code",
   "execution_count": 4,
   "metadata": {},
   "outputs": [],
   "source": [
    "data_transforms = {\n",
    "    'train': transforms.Compose([\n",
    "        transforms.Resize(resize_size),\n",
    "        transforms.RandomRotation(15),\n",
    "        transforms.ColorJitter(brightness=0.5, contrast=0.5),\n",
    "        # transforms.RandomHorizontalFlip(p=0.5),\n",
    "        transforms.ToTensor(),\n",
    "        transforms.Normalize(mean=[0.5, 0.5, 0.5], std=[0.5, 0.5, 0.5])\n",
    "    ]),\n",
    "    'test': transforms.Compose([\n",
    "        transforms.Resize(resize_size),\n",
    "        transforms.ToTensor(),\n",
    "        transforms.Normalize(mean=[0.5, 0.5, 0.5], std=[0.5, 0.5, 0.5])\n",
    "    ]),\n",
    "}"
   ]
  },
  {
   "cell_type": "code",
   "execution_count": 5,
   "metadata": {},
   "outputs": [
    {
     "output_type": "stream",
     "name": "stdout",
     "text": [
      "image shape: 46078, label shape: 46078\n"
     ]
    }
   ],
   "source": [
    "trainset = customDataset(datatype='train',\n",
    "                         transform=data_transforms['train'])\n",
    "trainloader = torch.utils.data.DataLoader(trainset, batch_size=batch_size, num_workers=num_workers, shuffle=True)"
   ]
  },
  {
   "cell_type": "code",
   "execution_count": 6,
   "metadata": {},
   "outputs": [
    {
     "output_type": "stream",
     "name": "stdout",
     "text": [
      "image shape: 11519, label shape: 11519\n"
     ]
    }
   ],
   "source": [
    "testset = customDataset(datatype='test',\n",
    "                        transform=data_transforms['test'])\n",
    "testloader = torch.utils.data.DataLoader(testset, batch_size=batch_size, num_workers=num_workers, shuffle=False)"
   ]
  },
  {
   "cell_type": "code",
   "execution_count": 7,
   "metadata": {},
   "outputs": [],
   "source": [
    "# for imgs, lbls in trainloader:\n",
    "#     print('Size of image:', imgs.size())  \n",
    "#     print('Type of image:', imgs.dtype)\n",
    "#     print('Size of label:', lbls.size())  \n",
    "#     print('Type of label:', lbls.dtype)\n",
    "#     break"
   ]
  },
  {
   "cell_type": "code",
   "execution_count": 8,
   "metadata": {},
   "outputs": [],
   "source": [
    "device = 'cuda' if torch.cuda.is_available() else 'cpu'"
   ]
  },
  {
   "cell_type": "code",
   "execution_count": 9,
   "metadata": {
    "tags": []
   },
   "outputs": [
    {
     "output_type": "stream",
     "name": "stdout",
     "text": [
      "Loaded pretrained weights for efficientnet-b4\n"
     ]
    },
    {
     "output_type": "execute_result",
     "data": {
      "text/plain": [
       "rnel_size=(1, 1), stride=(1, 1)\n",
       "          (static_padding): Identity()\n",
       "        )\n",
       "        (_se_expand): Conv2dStaticSamePadding(\n",
       "          28, 672, kernel_size=(1, 1), stride=(1, 1)\n",
       "          (static_padding): Identity()\n",
       "        )\n",
       "        (_project_conv): Conv2dStaticSamePadding(\n",
       "          672, 160, kernel_size=(1, 1), stride=(1, 1), bias=False\n",
       "          (static_padding): Identity()\n",
       "        )\n",
       "        (_bn2): BatchNorm2d(160, eps=0.001, momentum=0.010000000000000009, affine=True, track_running_stats=True)\n",
       "        (_swish): MemoryEfficientSwish()\n",
       "      )\n",
       "      (17): MBConvBlock(\n",
       "        (_expand_conv): Conv2dStaticSamePadding(\n",
       "          160, 960, kernel_size=(1, 1), stride=(1, 1), bias=False\n",
       "          (static_padding): Identity()\n",
       "        )\n",
       "        (_bn0): BatchNorm2d(960, eps=0.001, momentum=0.010000000000000009, affine=True, track_running_stats=True)\n",
       "        (_depthwise_conv): Conv2dStaticSamePadding(\n",
       "          960, 960, kernel_size=(5, 5), stride=(1, 1), groups=960, bias=False\n",
       "          (static_padding): ZeroPad2d(padding=(2, 2, 2, 2), value=0.0)\n",
       "        )\n",
       "        (_bn1): BatchNorm2d(960, eps=0.001, momentum=0.010000000000000009, affine=True, track_running_stats=True)\n",
       "        (_se_reduce): Conv2dStaticSamePadding(\n",
       "          960, 40, kernel_size=(1, 1), stride=(1, 1)\n",
       "          (static_padding): Identity()\n",
       "        )\n",
       "        (_se_expand): Conv2dStaticSamePadding(\n",
       "          40, 960, kernel_size=(1, 1), stride=(1, 1)\n",
       "          (static_padding): Identity()\n",
       "        )\n",
       "        (_project_conv): Conv2dStaticSamePadding(\n",
       "          960, 160, kernel_size=(1, 1), stride=(1, 1), bias=False\n",
       "          (static_padding): Identity()\n",
       "        )\n",
       "        (_bn2): BatchNorm2d(160, eps=0.001, momentum=0.010000000000000009, affine=True, track_running_stats=True)\n",
       "        (_swish): MemoryEfficientSwish()\n",
       "      )\n",
       "      (18): MBConvBlock(\n",
       "        (_expand_conv): Conv2dStaticSamePadding(\n",
       "          160, 960, kernel_size=(1, 1), stride=(1, 1), bias=False\n",
       "          (static_padding): Identity()\n",
       "        )\n",
       "        (_bn0): BatchNorm2d(960, eps=0.001, momentum=0.010000000000000009, affine=True, track_running_stats=True)\n",
       "        (_depthwise_conv): Conv2dStaticSamePadding(\n",
       "          960, 960, kernel_size=(5, 5), stride=(1, 1), groups=960, bias=False\n",
       "          (static_padding): ZeroPad2d(padding=(2, 2, 2, 2), value=0.0)\n",
       "        )\n",
       "        (_bn1): BatchNorm2d(960, eps=0.001, momentum=0.010000000000000009, affine=True, track_running_stats=True)\n",
       "        (_se_reduce): Conv2dStaticSamePadding(\n",
       "          960, 40, kernel_size=(1, 1), stride=(1, 1)\n",
       "          (static_padding): Identity()\n",
       "        )\n",
       "        (_se_expand): Conv2dStaticSamePadding(\n",
       "          40, 960, kernel_size=(1, 1), stride=(1, 1)\n",
       "          (static_padding): Identity()\n",
       "        )\n",
       "        (_project_conv): Conv2dStaticSamePadding(\n",
       "          960, 160, kernel_size=(1, 1), stride=(1, 1), bias=False\n",
       "          (static_padding): Identity()\n",
       "        )\n",
       "        (_bn2): BatchNorm2d(160, eps=0.001, momentum=0.010000000000000009, affine=True, track_running_stats=True)\n",
       "        (_swish): MemoryEfficientSwish()\n",
       "      )\n",
       "      (19): MBConvBlock(\n",
       "        (_expand_conv): Conv2dStaticSamePadding(\n",
       "          160, 960, kernel_size=(1, 1), stride=(1, 1), bias=False\n",
       "          (static_padding): Identity()\n",
       "        )\n",
       "        (_bn0): BatchNorm2d(960, eps=0.001, momentum=0.010000000000000009, affine=True, track_running_stats=True)\n",
       "        (_depthwise_conv): Conv2dStaticSamePadding(\n",
       "          960, 960, kernel_size=(5, 5), stride=(1, 1), groups=960, bias=False\n",
       "          (static_padding): ZeroPad2d(padding=(2, 2, 2, 2), value=0.0)\n",
       "        )\n",
       "        (_bn1): BatchNorm2d(960, eps=0.001, momentum=0.010000000000000009, affine=True, track_running_stats=True)\n",
       "        (_se_reduce): Conv2dStaticSamePadding(\n",
       "          960, 40, kernel_size=(1, 1), stride=(1, 1)\n",
       "          (static_padding): Identity()\n",
       "        )\n",
       "        (_se_expand): Conv2dStaticSamePadding(\n",
       "          40, 960, kernel_size=(1, 1), stride=(1, 1)\n",
       "          (static_padding): Identity()\n",
       "        )\n",
       "        (_project_conv): Conv2dStaticSamePadding(\n",
       "          960, 160, kernel_size=(1, 1), stride=(1, 1), bias=False\n",
       "          (static_padding): Identity()\n",
       "        )\n",
       "        (_bn2): BatchNorm2d(160, eps=0.001, momentum=0.010000000000000009, affine=True, track_running_stats=True)\n",
       "        (_swish): MemoryEfficientSwish()\n",
       "      )\n",
       "      (20): MBConvBlock(\n",
       "        (_expand_conv): Conv2dStaticSamePadding(\n",
       "          160, 960, kernel_size=(1, 1), stride=(1, 1), bias=False\n",
       "          (static_padding): Identity()\n",
       "        )\n",
       "        (_bn0): BatchNorm2d(960, eps=0.001, momentum=0.010000000000000009, affine=True, track_running_stats=True)\n",
       "        (_depthwise_conv): Conv2dStaticSamePadding(\n",
       "          960, 960, kernel_size=(5, 5), stride=(1, 1), groups=960, bias=False\n",
       "          (static_padding): ZeroPad2d(padding=(2, 2, 2, 2), value=0.0)\n",
       "        )\n",
       "        (_bn1): BatchNorm2d(960, eps=0.001, momentum=0.010000000000000009, affine=True, track_running_stats=True)\n",
       "        (_se_reduce): Conv2dStaticSamePadding(\n",
       "          960, 40, kernel_size=(1, 1), stride=(1, 1)\n",
       "          (static_padding): Identity()\n",
       "        )\n",
       "        (_se_expand): Conv2dStaticSamePadding(\n",
       "          40, 960, kernel_size=(1, 1), stride=(1, 1)\n",
       "          (static_padding): Identity()\n",
       "        )\n",
       "        (_project_conv): Conv2dStaticSamePadding(\n",
       "          960, 160, kernel_size=(1, 1), stride=(1, 1), bias=False\n",
       "          (static_padding): Identity()\n",
       "        )\n",
       "        (_bn2): BatchNorm2d(160, eps=0.001, momentum=0.010000000000000009, affine=True, track_running_stats=True)\n",
       "        (_swish): MemoryEfficientSwish()\n",
       "      )\n",
       "      (21): MBConvBlock(\n",
       "        (_expand_conv): Conv2dStaticSamePadding(\n",
       "          160, 960, kernel_size=(1, 1), stride=(1, 1), bias=False\n",
       "          (static_padding): Identity()\n",
       "        )\n",
       "        (_bn0): BatchNorm2d(960, eps=0.001, momentum=0.010000000000000009, affine=True, track_running_stats=True)\n",
       "        (_depthwise_conv): Conv2dStaticSamePadding(\n",
       "          960, 960, kernel_size=(5, 5), stride=(1, 1), groups=960, bias=False\n",
       "          (static_padding): ZeroPad2d(padding=(2, 2, 2, 2), value=0.0)\n",
       "        )\n",
       "        (_bn1): BatchNorm2d(960, eps=0.001, momentum=0.010000000000000009, affine=True, track_running_stats=True)\n",
       "        (_se_reduce): Conv2dStaticSamePadding(\n",
       "          960, 40, kernel_size=(1, 1), stride=(1, 1)\n",
       "          (static_padding): Identity()\n",
       "        )\n",
       "        (_se_expand): Conv2dStaticSamePadding(\n",
       "          40, 960, kernel_size=(1, 1), stride=(1, 1)\n",
       "          (static_padding): Identity()\n",
       "        )\n",
       "        (_project_conv): Conv2dStaticSamePadding(\n",
       "          960, 160, kernel_size=(1, 1), stride=(1, 1), bias=False\n",
       "          (static_padding): Identity()\n",
       "        )\n",
       "        (_bn2): BatchNorm2d(160, eps=0.001, momentum=0.010000000000000009, affine=True, track_running_stats=True)\n",
       "        (_swish): MemoryEfficientSwish()\n",
       "      )\n",
       "      (22): MBConvBlock(\n",
       "        (_expand_conv): Conv2dStaticSamePadding(\n",
       "          160, 960, kernel_size=(1, 1), stride=(1, 1), bias=False\n",
       "          (static_padding): Identity()\n",
       "        )\n",
       "        (_bn0): BatchNorm2d(960, eps=0.001, momentum=0.010000000000000009, affine=True, track_running_stats=True)\n",
       "        (_depthwise_conv): Conv2dStaticSamePadding(\n",
       "          960, 960, kernel_size=(5, 5), stride=[2, 2], groups=960, bias=False\n",
       "          (static_padding): ZeroPad2d(padding=(2, 2, 2, 2), value=0.0)\n",
       "        )\n",
       "        (_bn1): BatchNorm2d(960, eps=0.001, momentum=0.010000000000000009, affine=True, track_running_stats=True)\n",
       "        (_se_reduce): Conv2dStaticSamePadding(\n",
       "          960, 40, kernel_size=(1, 1), stride=(1, 1)\n",
       "          (static_padding): Identity()\n",
       "        )\n",
       "        (_se_expand): Conv2dStaticSamePadding(\n",
       "          40, 960, kernel_size=(1, 1), stride=(1, 1)\n",
       "          (static_padding): Identity()\n",
       "        )\n",
       "        (_project_conv): Conv2dStaticSamePadding(\n",
       "          960, 272, kernel_size=(1, 1), stride=(1, 1), bias=False\n",
       "          (static_padding): Identity()\n",
       "        )\n",
       "        (_bn2): BatchNorm2d(272, eps=0.001, momentum=0.010000000000000009, affine=True, track_running_stats=True)\n",
       "        (_swish): MemoryEfficientSwish()\n",
       "      )\n",
       "      (23): MBConvBlock(\n",
       "        (_expand_conv): Conv2dStaticSamePadding(\n",
       "          272, 1632, kernel_size=(1, 1), stride=(1, 1), bias=False\n",
       "          (static_padding): Identity()\n",
       "        )\n",
       "        (_bn0): BatchNorm2d(1632, eps=0.001, momentum=0.010000000000000009, affine=True, track_running_stats=True)\n",
       "        (_depthwise_conv): Conv2dStaticSamePadding(\n",
       "          1632, 1632, kernel_size=(5, 5), stride=(1, 1), groups=1632, bias=False\n",
       "          (static_padding): ZeroPad2d(padding=(2, 2, 2, 2), value=0.0)\n",
       "        )\n",
       "        (_bn1): BatchNorm2d(1632, eps=0.001, momentum=0.010000000000000009, affine=True, track_running_stats=True)\n",
       "        (_se_reduce): Conv2dStaticSamePadding(\n",
       "          1632, 68, kernel_size=(1, 1), stride=(1, 1)\n",
       "          (static_padding): Identity()\n",
       "        )\n",
       "        (_se_expand): Conv2dStaticSamePadding(\n",
       "          68, 1632, kernel_size=(1, 1), stride=(1, 1)\n",
       "          (static_padding): Identity()\n",
       "        )\n",
       "        (_project_conv): Conv2dStaticSamePadding(\n",
       "          1632, 272, kernel_size=(1, 1), stride=(1, 1), bias=False\n",
       "          (static_padding): Identity()\n",
       "        )\n",
       "        (_bn2): BatchNorm2d(272, eps=0.001, momentum=0.010000000000000009, affine=True, track_running_stats=True)\n",
       "        (_swish): MemoryEfficientSwish()\n",
       "      )\n",
       "      (24): MBConvBlock(\n",
       "        (_expand_conv): Conv2dStaticSamePadding(\n",
       "          272, 1632, kernel_size=(1, 1), stride=(1, 1), bias=False\n",
       "          (static_padding): Identity()\n",
       "        )\n",
       "        (_bn0): BatchNorm2d(1632, eps=0.001, momentum=0.010000000000000009, affine=True, track_running_stats=True)\n",
       "        (_depthwise_conv): Conv2dStaticSamePadding(\n",
       "          1632, 1632, kernel_size=(5, 5), stride=(1, 1), groups=1632, bias=False\n",
       "          (static_padding): ZeroPad2d(padding=(2, 2, 2, 2), value=0.0)\n",
       "        )\n",
       "        (_bn1): BatchNorm2d(1632, eps=0.001, momentum=0.010000000000000009, affine=True, track_running_stats=True)\n",
       "        (_se_reduce): Conv2dStaticSamePadding(\n",
       "          1632, 68, kernel_size=(1, 1), stride=(1, 1)\n",
       "          (static_padding): Identity()\n",
       "        )\n",
       "        (_se_expand): Conv2dStaticSamePadding(\n",
       "          68, 1632, kernel_size=(1, 1), stride=(1, 1)\n",
       "          (static_padding): Identity()\n",
       "        )\n",
       "        (_project_conv): Conv2dStaticSamePadding(\n",
       "          1632, 272, kernel_size=(1, 1), stride=(1, 1), bias=False\n",
       "          (static_padding): Identity()\n",
       "        )\n",
       "        (_bn2): BatchNorm2d(272, eps=0.001, momentum=0.010000000000000009, affine=True, track_running_stats=True)\n",
       "        (_swish): MemoryEfficientSwish()\n",
       "      )\n",
       "      (25): MBConvBlock(\n",
       "        (_expand_conv): Conv2dStaticSamePadding(\n",
       "          272, 1632, kernel_size=(1, 1), stride=(1, 1), bias=False\n",
       "          (static_padding): Identity()\n",
       "        )\n",
       "        (_bn0): BatchNorm2d(1632, eps=0.001, momentum=0.010000000000000009, affine=True, track_running_stats=True)\n",
       "        (_depthwise_conv): Conv2dStaticSamePadding(\n",
       "          1632, 1632, kernel_size=(5, 5), stride=(1, 1), groups=1632, bias=False\n",
       "          (static_padding): ZeroPad2d(padding=(2, 2, 2, 2), value=0.0)\n",
       "        )\n",
       "        (_bn1): BatchNorm2d(1632, eps=0.001, momentum=0.010000000000000009, affine=True, track_running_stats=True)\n",
       "        (_se_reduce): Conv2dStaticSamePadding(\n",
       "          1632, 68, kernel_size=(1, 1), stride=(1, 1)\n",
       "          (static_padding): Identity()\n",
       "        )\n",
       "        (_se_expand): Conv2dStaticSamePadding(\n",
       "          68, 1632, kernel_size=(1, 1), stride=(1, 1)\n",
       "          (static_padding): Identity()\n",
       "        )\n",
       "        (_project_conv): Conv2dStaticSamePadding(\n",
       "          1632, 272, kernel_size=(1, 1), stride=(1, 1), bias=False\n",
       "          (static_padding): Identity()\n",
       "        )\n",
       "        (_bn2): BatchNorm2d(272, eps=0.001, momentum=0.010000000000000009, affine=True, track_running_stats=True)\n",
       "        (_swish): MemoryEfficientSwish()\n",
       "      )\n",
       "      (26): MBConvBlock(\n",
       "        (_expand_conv): Conv2dStaticSamePadding(\n",
       "          272, 1632, kernel_size=(1, 1), stride=(1, 1), bias=False\n",
       "          (static_padding): Identity()\n",
       "        )\n",
       "        (_bn0): BatchNorm2d(1632, eps=0.001, momentum=0.010000000000000009, affine=True, track_running_stats=True)\n",
       "        (_depthwise_conv): Conv2dStaticSamePadding(\n",
       "          1632, 1632, kernel_size=(5, 5), stride=(1, 1), groups=1632, bias=False\n",
       "          (static_padding): ZeroPad2d(padding=(2, 2, 2, 2), value=0.0)\n",
       "        )\n",
       "        (_bn1): BatchNorm2d(1632, eps=0.001, momentum=0.010000000000000009, affine=True, track_running_stats=True)\n",
       "        (_se_reduce): Conv2dStaticSamePadding(\n",
       "          1632, 68, kernel_size=(1, 1), stride=(1, 1)\n",
       "          (static_padding): Identity()\n",
       "        )\n",
       "        (_se_expand): Conv2dStaticSamePadding(\n",
       "          68, 1632, kernel_size=(1, 1), stride=(1, 1)\n",
       "          (static_padding): Identity()\n",
       "        )\n",
       "        (_project_conv): Conv2dStaticSamePadding(\n",
       "          1632, 272, kernel_size=(1, 1), stride=(1, 1), bias=False\n",
       "          (static_padding): Identity()\n",
       "        )\n",
       "        (_bn2): BatchNorm2d(272, eps=0.001, momentum=0.010000000000000009, affine=True, track_running_stats=True)\n",
       "        (_swish): MemoryEfficientSwish()\n",
       "      )\n",
       "      (27): MBConvBlock(\n",
       "        (_expand_conv): Conv2dStaticSamePadding(\n",
       "          272, 1632, kernel_size=(1, 1), stride=(1, 1), bias=False\n",
       "          (static_padding): Identity()\n",
       "        )\n",
       "        (_bn0): BatchNorm2d(1632, eps=0.001, momentum=0.010000000000000009, affine=True, track_running_stats=True)\n",
       "        (_depthwise_conv): Conv2dStaticSamePadding(\n",
       "          1632, 1632, kernel_size=(5, 5), stride=(1, 1), groups=1632, bias=False\n",
       "          (static_padding): ZeroPad2d(padding=(2, 2, 2, 2), value=0.0)\n",
       "        )\n",
       "        (_bn1): BatchNorm2d(1632, eps=0.001, momentum=0.010000000000000009, affine=True, track_running_stats=True)\n",
       "        (_se_reduce): Conv2dStaticSamePadding(\n",
       "          1632, 68, kernel_size=(1, 1), stride=(1, 1)\n",
       "          (static_padding): Identity()\n",
       "        )\n",
       "        (_se_expand): Conv2dStaticSamePadding(\n",
       "          68, 1632, kernel_size=(1, 1), stride=(1, 1)\n",
       "          (static_padding): Identity()\n",
       "        )\n",
       "        (_project_conv): Conv2dStaticSamePadding(\n",
       "          1632, 272, kernel_size=(1, 1), stride=(1, 1), bias=False\n",
       "          (static_padding): Identity()\n",
       "        )\n",
       "        (_bn2): BatchNorm2d(272, eps=0.001, momentum=0.010000000000000009, affine=True, track_running_stats=True)\n",
       "        (_swish): MemoryEfficientSwish()\n",
       "      )\n",
       "      (28): MBConvBlock(\n",
       "        (_expand_conv): Conv2dStaticSamePadding(\n",
       "          272, 1632, kernel_size=(1, 1), stride=(1, 1), bias=False\n",
       "          (static_padding): Identity()\n",
       "        )\n",
       "        (_bn0): BatchNorm2d(1632, eps=0.001, momentum=0.010000000000000009, affine=True, track_running_stats=True)\n",
       "        (_depthwise_conv): Conv2dStaticSamePadding(\n",
       "          1632, 1632, kernel_size=(5, 5), stride=(1, 1), groups=1632, bias=False\n",
       "          (static_padding): ZeroPad2d(padding=(2, 2, 2, 2), value=0.0)\n",
       "        )\n",
       "        (_bn1): BatchNorm2d(1632, eps=0.001, momentum=0.010000000000000009, affine=True, track_running_stats=True)\n",
       "        (_se_reduce): Conv2dStaticSamePadding(\n",
       "          1632, 68, kernel_size=(1, 1), stride=(1, 1)\n",
       "          (static_padding): Identity()\n",
       "        )\n",
       "        (_se_expand): Conv2dStaticSamePadding(\n",
       "          68, 1632, kernel_size=(1, 1), stride=(1, 1)\n",
       "          (static_padding): Identity()\n",
       "        )\n",
       "        (_project_conv): Conv2dStaticSamePadding(\n",
       "          1632, 272, kernel_size=(1, 1), stride=(1, 1), bias=False\n",
       "          (static_padding): Identity()\n",
       "        )\n",
       "        (_bn2): BatchNorm2d(272, eps=0.001, momentum=0.010000000000000009, affine=True, track_running_stats=True)\n",
       "        (_swish): MemoryEfficientSwish()\n",
       "      )\n",
       "      (29): MBConvBlock(\n",
       "        (_expand_conv): Conv2dStaticSamePadding(\n",
       "          272, 1632, kernel_size=(1, 1), stride=(1, 1), bias=False\n",
       "          (static_padding): Identity()\n",
       "        )\n",
       "        (_bn0): BatchNorm2d(1632, eps=0.001, momentum=0.010000000000000009, affine=True, track_running_stats=True)\n",
       "        (_depthwise_conv): Conv2dStaticSamePadding(\n",
       "          1632, 1632, kernel_size=(5, 5), stride=(1, 1), groups=1632, bias=False\n",
       "          (static_padding): ZeroPad2d(padding=(2, 2, 2, 2), value=0.0)\n",
       "        )\n",
       "        (_bn1): BatchNorm2d(1632, eps=0.001, momentum=0.010000000000000009, affine=True, track_running_stats=True)\n",
       "        (_se_reduce): Conv2dStaticSamePadding(\n",
       "          1632, 68, kernel_size=(1, 1), stride=(1, 1)\n",
       "          (static_padding): Identity()\n",
       "        )\n",
       "        (_se_expand): Conv2dStaticSamePadding(\n",
       "          68, 1632, kernel_size=(1, 1), stride=(1, 1)\n",
       "          (static_padding): Identity()\n",
       "        )\n",
       "        (_project_conv): Conv2dStaticSamePadding(\n",
       "          1632, 272, kernel_size=(1, 1), stride=(1, 1), bias=False\n",
       "          (static_padding): Identity()\n",
       "        )\n",
       "        (_bn2): BatchNorm2d(272, eps=0.001, momentum=0.010000000000000009, affine=True, track_running_stats=True)\n",
       "        (_swish): MemoryEfficientSwish()\n",
       "      )\n",
       "      (30): MBConvBlock(\n",
       "        (_expand_conv): Conv2dStaticSamePadding(\n",
       "          272, 1632, kernel_size=(1, 1), stride=(1, 1), bias=False\n",
       "          (static_padding): Identity()\n",
       "        )\n",
       "        (_bn0): BatchNorm2d(1632, eps=0.001, momentum=0.010000000000000009, affine=True, track_running_stats=True)\n",
       "        (_depthwise_conv): Conv2dStaticSamePadding(\n",
       "          1632, 1632, kernel_size=(3, 3), stride=[1, 1], groups=1632, bias=False\n",
       "          (static_padding): ZeroPad2d(padding=(1, 1, 1, 1), value=0.0)\n",
       "        )\n",
       "        (_bn1): BatchNorm2d(1632, eps=0.001, momentum=0.010000000000000009, affine=True, track_running_stats=True)\n",
       "        (_se_reduce): Conv2dStaticSamePadding(\n",
       "          1632, 68, kernel_size=(1, 1), stride=(1, 1)\n",
       "          (static_padding): Identity()\n",
       "        )\n",
       "        (_se_expand): Conv2dStaticSamePadding(\n",
       "          68, 1632, kernel_size=(1, 1), stride=(1, 1)\n",
       "          (static_padding): Identity()\n",
       "        )\n",
       "        (_project_conv): Conv2dStaticSamePadding(\n",
       "          1632, 448, kernel_size=(1, 1), stride=(1, 1), bias=False\n",
       "          (static_padding): Identity()\n",
       "        )\n",
       "        (_bn2): BatchNorm2d(448, eps=0.001, momentum=0.010000000000000009, affine=True, track_running_stats=True)\n",
       "        (_swish): MemoryEfficientSwish()\n",
       "      )\n",
       "      (31): MBConvBlock(\n",
       "        (_expand_conv): Conv2dStaticSamePadding(\n",
       "          448, 2688, kernel_size=(1, 1), stride=(1, 1), bias=False\n",
       "          (static_padding): Identity()\n",
       "        )\n",
       "        (_bn0): BatchNorm2d(2688, eps=0.001, momentum=0.010000000000000009, affine=True, track_running_stats=True)\n",
       "        (_depthwise_conv): Conv2dStaticSamePadding(\n",
       "          2688, 2688, kernel_size=(3, 3), stride=(1, 1), groups=2688, bias=False\n",
       "          (static_padding): ZeroPad2d(padding=(1, 1, 1, 1), value=0.0)\n",
       "        )\n",
       "        (_bn1): BatchNorm2d(2688, eps=0.001, momentum=0.010000000000000009, affine=True, track_running_stats=True)\n",
       "        (_se_reduce): Conv2dStaticSamePadding(\n",
       "          2688, 112, kernel_size=(1, 1), stride=(1, 1)\n",
       "          (static_padding): Identity()\n",
       "        )\n",
       "        (_se_expand): Conv2dStaticSamePadding(\n",
       "          112, 2688, kernel_size=(1, 1), stride=(1, 1)\n",
       "          (static_padding): Identity()\n",
       "        )\n",
       "        (_project_conv): Conv2dStaticSamePadding(\n",
       "          2688, 448, kernel_size=(1, 1), stride=(1, 1), bias=False\n",
       "          (static_padding): Identity()\n",
       "        )\n",
       "        (_bn2): BatchNorm2d(448, eps=0.001, momentum=0.010000000000000009, affine=True, track_running_stats=True)\n",
       "        (_swish): MemoryEfficientSwish()\n",
       "      )\n",
       "    )\n",
       "    (_conv_head): Conv2dStaticSamePadding(\n",
       "      448, 1792, kernel_size=(1, 1), stride=(1, 1), bias=False\n",
       "      (static_padding): Identity()\n",
       "    )\n",
       "    (_bn1): BatchNorm2d(1792, eps=0.001, momentum=0.010000000000000009, affine=True, track_running_stats=True)\n",
       "    (_avg_pooling): AdaptiveAvgPool2d(output_size=1)\n",
       "    (_dropout): Dropout(p=0.4, inplace=False)\n",
       "    (_fc): Linear(in_features=1792, out_features=1000, bias=True)\n",
       "    (_swish): MemoryEfficientSwish()\n",
       "  )\n",
       "  (relu0): ReLU()\n",
       "  (fc): Linear(in_features=1000, out_features=2, bias=True)\n",
       ")"
      ]
     },
     "metadata": {},
     "execution_count": 9
    }
   ],
   "source": [
    "net = utils.Net()\n",
    "net.to(device)"
   ]
  },
  {
   "cell_type": "code",
   "execution_count": 10,
   "metadata": {},
   "outputs": [],
   "source": [
    "# positive: 15433, negative: 41118\n",
    "# positive: 17827, negative: 39770\n",
    "class_weights = torch.FloatTensor([1, 2.309]).cuda()\n",
    "# class_weights = torch.FloatTensor([1, 3]).cuda()\n",
    "criterion = nn.CrossEntropyLoss(weight=class_weights)\n",
    "# criterion = nn.CrossEntropyLoss()\n",
    "epochs = 5\n",
    "size = 46078 // batch_size\n",
    "timestr = time.strftime(\"%Y%m%d-%H%M%S\")"
   ]
  },
  {
   "cell_type": "code",
   "execution_count": 11,
   "metadata": {
    "tags": []
   },
   "outputs": [
    {
     "output_type": "display_data",
     "data": {
      "text/plain": "HBox(children=(HTML(value='Epochs: '), FloatProgress(value=0.0, max=5.0), HTML(value='')))",
      "application/vnd.jupyter.widget-view+json": {
       "version_major": 2,
       "version_minor": 0,
       "model_id": "df9480e35abf440d9ef5fd4f23ddeec8"
      }
     },
     "metadata": {}
    },
    {
     "output_type": "stream",
     "name": "stdout",
     "text": [
      "================== EPOCH INFO: 1 ==================\n"
     ]
    },
    {
     "output_type": "display_data",
     "data": {
      "text/plain": "HBox(children=(HTML(value='Progress:'), FloatProgress(value=0.0, max=1440.0), HTML(value='')))",
      "application/vnd.jupyter.widget-view+json": {
       "version_major": 2,
       "version_minor": 0,
       "model_id": "3440181fc6954c699f1b8b71cb0aca1d"
      }
     },
     "metadata": {}
    },
    {
     "output_type": "stream",
     "name": "stdout",
     "text": [
      "==============================================\n",
      "Batch acc = 0.5 (16.0 / 32)\n",
      "Batch f1-score = 0.19999999999999998\n",
      "(0.18181818181818182, 0.2222222222222222, 0.19999999999999998, None)\n",
      "Prediction distribution:\n",
      "(array([0, 1]), array([21, 11])) (array([0, 1]), array([23,  9]))\n",
      "[1,   501] loss: 0.731\n",
      "==============================================\n",
      "Batch acc = 0.625 (20.0 / 32)\n",
      "Batch f1-score = 0.45454545454545453\n",
      "(0.4166666666666667, 0.5, 0.45454545454545453, None)\n",
      "Prediction distribution:\n",
      "(array([0, 1]), array([20, 12])) (array([0, 1]), array([22, 10]))\n",
      "[1,  1001] loss: 0.724\n"
     ]
    },
    {
     "output_type": "display_data",
     "data": {
      "text/plain": "HBox(children=(HTML(value=''), FloatProgress(value=0.0, max=1440.0), HTML(value='')))",
      "application/vnd.jupyter.widget-view+json": {
       "version_major": 2,
       "version_minor": 0,
       "model_id": "497e8699f599438b9690ab60b9fd4d93"
      }
     },
     "metadata": {}
    },
    {
     "output_type": "stream",
     "name": "stdout",
     "text": [
      "\nTraining prediction:\n(array([0., 1.]), array([14619, 31459])) (array([0., 1.]), array([31816, 14262]))\n[1. 1. 0. 1. 0. 1. 0. 0. 0. 1.] [1. 0. 1. 0. 0. 1. 0. 0. 0. 1.]\nF1 of model on train set:  0.45108374707464843\nPrecision: 0.3277917289170031, Recall: 0.7230402468097041, F1: 0.45108374707464843\n"
     ]
    },
    {
     "output_type": "display_data",
     "data": {
      "text/plain": "HBox(children=(HTML(value=''), FloatProgress(value=0.0, max=360.0), HTML(value='')))",
      "application/vnd.jupyter.widget-view+json": {
       "version_major": 2,
       "version_minor": 0,
       "model_id": "3968659e9c6e4a41a6bb48d1f7b0c724"
      }
     },
     "metadata": {}
    },
    {
     "output_type": "stream",
     "name": "stdout",
     "text": [
      "Testing prediction:\n(array([0., 1.]), array([3465, 8054])) (array([0., 1.]), array([7954, 3565]))\n[1. 0. 1. 1. 1. 0. 1. 0. 1. 1.] [1. 1. 1. 1. 1. 1. 1. 1. 1. 1.]\nF1 of my model on test set:  0.44857560891643006\nPrecision: 0.3235659299726844, Recall: 0.7309957924263675, F1: 0.44857560891643006\n================== EPOCH INFO: 2 ==================\n"
     ]
    },
    {
     "output_type": "display_data",
     "data": {
      "text/plain": "HBox(children=(HTML(value='Progress:'), FloatProgress(value=0.0, max=1440.0), HTML(value='')))",
      "application/vnd.jupyter.widget-view+json": {
       "version_major": 2,
       "version_minor": 0,
       "model_id": "7bf2876569a54676b5740680e0c78678"
      }
     },
     "metadata": {}
    },
    {
     "output_type": "stream",
     "name": "stdout",
     "text": [
      "==============================================\n",
      "Batch acc = 0.34375 (11.0 / 32)\n",
      "Batch f1-score = 0.22222222222222224\n",
      "(0.14285714285714285, 0.5, 0.22222222222222224, None)\n",
      "Prediction distribution:\n",
      "(array([0, 1]), array([11, 21])) (array([0, 1]), array([26,  6]))\n",
      "[2,   501] loss: 0.719\n",
      "==============================================\n",
      "Batch acc = 0.65625 (21.0 / 32)\n",
      "Batch f1-score = 0.15384615384615383\n",
      "(0.14285714285714285, 0.16666666666666666, 0.15384615384615383, None)\n",
      "Prediction distribution:\n",
      "(array([0, 1]), array([25,  7])) (array([0, 1]), array([26,  6]))\n",
      "[2,  1001] loss: 0.721\n"
     ]
    },
    {
     "output_type": "display_data",
     "data": {
      "text/plain": "HBox(children=(HTML(value=''), FloatProgress(value=0.0, max=1440.0), HTML(value='')))",
      "application/vnd.jupyter.widget-view+json": {
       "version_major": 2,
       "version_minor": 0,
       "model_id": "8612321b02ac4ab0bcc670ba6d3235b3"
      }
     },
     "metadata": {}
    },
    {
     "output_type": "stream",
     "name": "stdout",
     "text": [
      "\nTraining prediction:\n(array([0., 1.]), array([24393, 21685])) (array([0., 1.]), array([31816, 14262]))\n[0. 0. 1. 0. 0. 1. 1. 1. 1. 1.] [1. 0. 0. 0. 0. 0. 0. 0. 1. 0.]\nF1 of model on train set:  0.40982557654324425\nPrecision: 0.33968180770117595, Recall: 0.5164773524049923, F1: 0.40982557654324425\n"
     ]
    },
    {
     "output_type": "display_data",
     "data": {
      "text/plain": "HBox(children=(HTML(value=''), FloatProgress(value=0.0, max=360.0), HTML(value='')))",
      "application/vnd.jupyter.widget-view+json": {
       "version_major": 2,
       "version_minor": 0,
       "model_id": "4de722f0d2d04747a57624352ead6291"
      }
     },
     "metadata": {}
    },
    {
     "output_type": "stream",
     "name": "stdout",
     "text": [
      "Testing prediction:\n(array([0., 1.]), array([5422, 6097])) (array([0., 1.]), array([7954, 3565]))\n[1. 1. 1. 1. 1. 0. 0. 0. 0. 1.] [1. 1. 1. 1. 1. 1. 1. 1. 1. 1.]\nF1 of my model on test set:  0.41585593044918234\nPrecision: 0.32950631458094143, Recall: 0.5635343618513324, F1: 0.41585593044918234\n================== EPOCH INFO: 3 ==================\n"
     ]
    },
    {
     "output_type": "display_data",
     "data": {
      "text/plain": "HBox(children=(HTML(value='Progress:'), FloatProgress(value=0.0, max=1440.0), HTML(value='')))",
      "application/vnd.jupyter.widget-view+json": {
       "version_major": 2,
       "version_minor": 0,
       "model_id": "b2b0ef3b3dff4071b13bbc9a3ee6f498"
      }
     },
     "metadata": {}
    },
    {
     "output_type": "stream",
     "name": "stdout",
     "text": [
      "==============================================\n",
      "Batch acc = 0.59375 (19.0 / 32)\n",
      "Batch f1-score = 0.43478260869565216\n",
      "(0.3333333333333333, 0.625, 0.43478260869565216, None)\n",
      "Prediction distribution:\n",
      "(array([0, 1]), array([17, 15])) (array([0, 1]), array([24,  8]))\n",
      "[3,   501] loss: 0.717\n",
      "==============================================\n",
      "Batch acc = 0.5625 (18.0 / 32)\n",
      "Batch f1-score = 0.3\n",
      "(0.6, 0.2, 0.3, None)\n",
      "Prediction distribution:\n",
      "(array([0, 1]), array([27,  5])) (array([0, 1]), array([17, 15]))\n",
      "[3,  1001] loss: 0.725\n"
     ]
    },
    {
     "output_type": "display_data",
     "data": {
      "text/plain": "HBox(children=(HTML(value=''), FloatProgress(value=0.0, max=1440.0), HTML(value='')))",
      "application/vnd.jupyter.widget-view+json": {
       "version_major": 2,
       "version_minor": 0,
       "model_id": "831eb423f59f4ea8925c7299c6384693"
      }
     },
     "metadata": {}
    },
    {
     "output_type": "stream",
     "name": "stdout",
     "text": [
      "\nTraining prediction:\n(array([0., 1.]), array([18430, 27648])) (array([0., 1.]), array([31816, 14262]))\n[1. 0. 0. 1. 1. 1. 0. 1. 0. 1.] [1. 1. 1. 0. 0. 0. 0. 0. 0. 0.]\nF1 of model on train set:  0.4336435218324982\nPrecision: 0.3286675347222222, Recall: 0.637147665124106, F1: 0.4336435218324982\n"
     ]
    },
    {
     "output_type": "display_data",
     "data": {
      "text/plain": "HBox(children=(HTML(value=''), FloatProgress(value=0.0, max=360.0), HTML(value='')))",
      "application/vnd.jupyter.widget-view+json": {
       "version_major": 2,
       "version_minor": 0,
       "model_id": "c33278aa9690432ead64916baeec1179"
      }
     },
     "metadata": {}
    },
    {
     "output_type": "stream",
     "name": "stdout",
     "text": [
      "Testing prediction:\n(array([0., 1.]), array([5631, 5888])) (array([0., 1.]), array([7954, 3565]))\n[1. 0. 0. 0. 0. 1. 1. 1. 0. 1.] [1. 1. 1. 1. 1. 1. 1. 1. 1. 1.]\nF1 of my model on test set:  0.4085475510419973\nPrecision: 0.32795516304347827, Recall: 0.5416549789621319, F1: 0.4085475510419973\n================== EPOCH INFO: 4 ==================\n"
     ]
    },
    {
     "output_type": "display_data",
     "data": {
      "text/plain": "HBox(children=(HTML(value='Progress:'), FloatProgress(value=0.0, max=1440.0), HTML(value='')))",
      "application/vnd.jupyter.widget-view+json": {
       "version_major": 2,
       "version_minor": 0,
       "model_id": "20fabe2bda254a148b7720984b4409d4"
      }
     },
     "metadata": {}
    },
    {
     "output_type": "stream",
     "name": "stdout",
     "text": [
      "==============================================\n",
      "Batch acc = 0.40625 (13.0 / 32)\n",
      "Batch f1-score = 0.24\n",
      "(0.16666666666666666, 0.42857142857142855, 0.24, None)\n",
      "Prediction distribution:\n",
      "(array([0, 1]), array([14, 18])) (array([0, 1]), array([25,  7]))\n",
      "[4,   501] loss: 0.720\n",
      "==============================================\n",
      "Batch acc = 0.65625 (21.0 / 32)\n",
      "Batch f1-score = 0.0\n",
      "(0.0, 0.0, 0.0, None)\n",
      "Prediction distribution:\n",
      "(array([0]), array([32])) (array([0, 1]), array([21, 11]))\n",
      "[4,  1001] loss: 0.722\n"
     ]
    },
    {
     "output_type": "display_data",
     "data": {
      "text/plain": "HBox(children=(HTML(value=''), FloatProgress(value=0.0, max=1440.0), HTML(value='')))",
      "application/vnd.jupyter.widget-view+json": {
       "version_major": 2,
       "version_minor": 0,
       "model_id": "f50ffdba21cf421b9ca04977aa7dc1ec"
      }
     },
     "metadata": {}
    },
    {
     "output_type": "stream",
     "name": "stdout",
     "text": [
      "\nTraining prediction:\n(array([0., 1.]), array([32782, 13296])) (array([0., 1.]), array([31816, 14262]))\n[0. 0. 1. 1. 0. 1. 0. 1. 0. 0.] [0. 0. 1. 0. 0. 0. 0. 0. 0. 0.]\nF1 of model on train set:  0.33471224326874227\nPrecision: 0.34687123947051746, Recall: 0.3233768054971252, F1: 0.33471224326874227\n"
     ]
    },
    {
     "output_type": "display_data",
     "data": {
      "text/plain": "HBox(children=(HTML(value=''), FloatProgress(value=0.0, max=360.0), HTML(value='')))",
      "application/vnd.jupyter.widget-view+json": {
       "version_major": 2,
       "version_minor": 0,
       "model_id": "d23a9705e2fd4eb994b363d66b850dd2"
      }
     },
     "metadata": {}
    },
    {
     "output_type": "stream",
     "name": "stdout",
     "text": [
      "Testing prediction:\n(array([0., 1.]), array([8180, 3339])) (array([0., 1.]), array([7954, 3565]))\n[1. 0. 0. 0. 0. 0. 0. 0. 1. 0.] [1. 1. 1. 1. 1. 1. 1. 1. 1. 1.]\nF1 of my model on test set:  0.3253186558516802\nPrecision: 0.3363282419886193, Recall: 0.3150070126227209, F1: 0.3253186558516802\n================== EPOCH INFO: 5 ==================\n"
     ]
    },
    {
     "output_type": "display_data",
     "data": {
      "text/plain": "HBox(children=(HTML(value='Progress:'), FloatProgress(value=0.0, max=1440.0), HTML(value='')))",
      "application/vnd.jupyter.widget-view+json": {
       "version_major": 2,
       "version_minor": 0,
       "model_id": "7dc7127ef81d4b1a90adaf28d9c546eb"
      }
     },
     "metadata": {}
    },
    {
     "output_type": "stream",
     "name": "stdout",
     "text": [
      "==============================================\n",
      "Batch acc = 0.5625 (18.0 / 32)\n",
      "Batch f1-score = 0.5333333333333333\n",
      "(0.4, 0.8, 0.5333333333333333, None)\n",
      "Prediction distribution:\n",
      "(array([0, 1]), array([12, 20])) (array([0, 1]), array([22, 10]))\n",
      "[5,   501] loss: 0.719\n",
      "==============================================\n",
      "Batch acc = 0.5 (16.0 / 32)\n",
      "Batch f1-score = 0.2727272727272727\n",
      "(0.21428571428571427, 0.375, 0.2727272727272727, None)\n",
      "Prediction distribution:\n",
      "(array([0, 1]), array([18, 14])) (array([0, 1]), array([24,  8]))\n",
      "[5,  1001] loss: 0.721\n"
     ]
    },
    {
     "output_type": "display_data",
     "data": {
      "text/plain": "HBox(children=(HTML(value=''), FloatProgress(value=0.0, max=1440.0), HTML(value='')))",
      "application/vnd.jupyter.widget-view+json": {
       "version_major": 2,
       "version_minor": 0,
       "model_id": "bd2e2bf7f2754563af7a104b81cffeb2"
      }
     },
     "metadata": {}
    },
    {
     "output_type": "stream",
     "name": "stdout",
     "text": [
      "\nTraining prediction:\n(array([0., 1.]), array([39109,  6969])) (array([0., 1.]), array([31816, 14262]))\n[0. 0. 0. 0. 1. 0. 0. 0. 0. 0.] [0. 0. 1. 0. 0. 0. 0. 1. 1. 0.]\nF1 of model on train set:  0.23663510903866986\nPrecision: 0.3604534366480126, Recall: 0.17613237975038565, F1: 0.23663510903866986\n"
     ]
    },
    {
     "output_type": "display_data",
     "data": {
      "text/plain": "HBox(children=(HTML(value=''), FloatProgress(value=0.0, max=360.0), HTML(value='')))",
      "application/vnd.jupyter.widget-view+json": {
       "version_major": 2,
       "version_minor": 0,
       "model_id": "16195326d24d45b2be5822b700fabbca"
      }
     },
     "metadata": {}
    },
    {
     "output_type": "stream",
     "name": "stdout",
     "text": [
      "Testing prediction:\n(array([0., 1.]), array([9867, 1652])) (array([0., 1.]), array([7954, 3565]))\n[1. 0. 0. 0. 0. 0. 0. 0. 0. 0.] [1. 1. 1. 1. 1. 1. 1. 1. 1. 1.]\nF1 of my model on test set:  0.22656699252443932\nPrecision: 0.3577481840193705, Recall: 0.16577840112201964, F1: 0.22656699252443932\n"
     ]
    }
   ],
   "source": [
    "### First\n",
    "LR = 1e-2\n",
    "# optimizer = optim.Adam(net.parameters(), lr=1e-3)\n",
    "optimizer = optim.SGD(net.parameters(), lr=LR)\n",
    "\n",
    "for epoch in tqdm(range(epochs), desc='Epochs: '):  # loop over the dataset multiple times\n",
    "    print(\"================== EPOCH INFO: {} ==================\".format(epoch + 1))\n",
    "    net.train()     # Train mode\n",
    "    running_loss = 0.0\n",
    "    for i, data in enumerate(tqdm(trainloader, desc='Progress:'), 0):\n",
    "        # get the inputs; data is a list of [inputs, labels]\n",
    "        inputs, labels = data[0].to(device), data[1].to(device)\n",
    "        labels = labels.view(-1)\n",
    "\n",
    "        # zero the parameter gradients\n",
    "        optimizer.zero_grad()\n",
    "\n",
    "        # forward + backward + optimize\n",
    "        outputs = net(inputs)\n",
    "\n",
    "        # print(data[0].shape, data[1].shape)\n",
    "        # print(inputs.shape)\n",
    "        # print(labels.shape, outputs.shape)\n",
    "\n",
    "        loss = criterion(outputs, labels)\n",
    "        loss.backward()\n",
    "        optimizer.step()\n",
    "\n",
    "        # print statistics\n",
    "        running_loss += loss.item()\n",
    "        interval = 500\n",
    "        if i % interval == 0 and i != 0:    # print every interval\n",
    "            _, y_pred_tag = torch.max(outputs, 1)\n",
    "            correct_results_sum = (y_pred_tag == labels).sum().float()\n",
    "            acc = correct_results_sum / labels.shape[0]\n",
    "\n",
    "            y_pred_np = y_pred_tag.cpu().detach().numpy()\n",
    "            y_true_np = labels.cpu().detach().numpy()\n",
    "            print(\"==============================================\")\n",
    "            print(\"Batch acc = {} ({} / {})\".format(acc, correct_results_sum, labels.shape[0]))\n",
    "            print(\"Batch f1-score = {}\".format(f1_score(y_true_np, y_pred_np, average='binary')))\n",
    "            print(precision_recall_fscore_support(y_true_np, y_pred_np, average='binary'))\n",
    "\n",
    "            print(\"Prediction distribution:\")\n",
    "            print(np.unique(y_pred_np, return_counts=True), np.unique(y_true_np, return_counts=True))\n",
    "            # print(y_pred_np, y_true_np)\n",
    "\n",
    "            print('[%d, %5d] loss: %.3f' %\n",
    "                  (epoch + 1, i + 1, running_loss / interval))\n",
    "            running_loss = 0.0\n",
    "\n",
    "    # Eval mode\n",
    "    net.eval()\n",
    "    # Training score\n",
    "    y_pred_train = np.array([])\n",
    "    y_true_train = np.array([])\n",
    "    with torch.no_grad():\n",
    "        for data_test in tqdm(trainloader):\n",
    "            images, labels = data_test[0].to(device), data_test[1].to(device)\n",
    "            outputs = net(images)\n",
    "\n",
    "            _, y_pred_tag = torch.max(outputs, 1)\n",
    "            y_pred_train = np.hstack([y_pred_train, y_pred_tag.cpu().detach().numpy()])\n",
    "\n",
    "            y_true_train = np.hstack([y_true_train, labels.cpu().detach().numpy()])\n",
    "\n",
    "    precision_train, recall_train, f1_train, support_train = precision_recall_fscore_support(y_true_train, y_pred_train, average='binary')\n",
    "\n",
    "    print()\n",
    "    print(\"Training prediction:\")\n",
    "    print(np.unique(y_pred_train, return_counts=True), np.unique(y_true_train, return_counts=True))\n",
    "    print(y_pred_train[0:10], y_true_train[0:10])\n",
    "    print(\"F1 of model on train set: \", f1_score(y_true_train, y_pred_train, average='binary'))\n",
    "    print(\"Precision: {}, Recall: {}, F1: {}\".format(precision_train, recall_train, f1_train))\n",
    "\n",
    "    # Testing score\n",
    "    y_pred_test = np.array([])\n",
    "    y_true_test = np.array([])\n",
    "    with torch.no_grad():\n",
    "        for data_test in tqdm(testloader):\n",
    "            images, labels = data_test[0].to(device), data_test[1].to(device)\n",
    "            outputs = net(images)\n",
    "\n",
    "            _, y_pred_tag = torch.max(outputs, 1)\n",
    "            y_pred_test = np.hstack([y_pred_test, y_pred_tag.cpu().detach().numpy()])\n",
    "                \n",
    "            y_true_test = np.hstack([y_true_test, labels.cpu().detach().numpy()])\n",
    "    \n",
    "    precision_test, recall_test, f1_test, support_test = precision_recall_fscore_support(y_true_test, y_pred_test, average='binary')\n",
    "\n",
    "    print(\"Testing prediction:\")\n",
    "    print(np.unique(y_pred_test, return_counts=True), np.unique(y_true_test, return_counts=True))\n",
    "    print(y_pred_test[0:10], y_true_test[0:10])\n",
    "    print(\"F1 of my model on test set: \", f1_score(y_true_test, y_pred_test, average='binary'))\n",
    "    print(\"Precision: {}, Recall: {}, F1: {}\".format(precision_test, recall_test, f1_test))\n",
    "\n",
    "\n",
    "    # record precision, recall, f1-score into file\n",
    "    with open('record/{}_{}_train_loss'.format(MODEL, timestr), 'a') as f_train, open('record/{}_{}_test_loss'.format(MODEL, timestr), 'a') as f_test:\n",
    "        f_train.write(str(precision_train) + ', ' + str(recall_train) + ', ' + str(f1_train) + '\\n')\n",
    "        f_test.write(str(precision_test) + ', ' + str(recall_test) + ', ' + str(f1_test) + '\\n')\n",
    "\n",
    "    # save model for every epoch\n",
    "    torch.save(net.state_dict(), './model/{}_{}_{}_{}_{}_{}'.format(MODEL, timestr, LR, epoch, f1_train, f1_test))"
   ]
  },
  {
   "cell_type": "code",
   "execution_count": 12,
   "metadata": {},
   "outputs": [
    {
     "output_type": "display_data",
     "data": {
      "text/plain": "HBox(children=(HTML(value='Epochs: '), FloatProgress(value=0.0, max=5.0), HTML(value='')))",
      "application/vnd.jupyter.widget-view+json": {
       "version_major": 2,
       "version_minor": 0,
       "model_id": "445ceec53e994496b2a9cc23e9027256"
      }
     },
     "metadata": {}
    },
    {
     "output_type": "stream",
     "name": "stdout",
     "text": [
      "================== EPOCH INFO: 1 ==================\n"
     ]
    },
    {
     "output_type": "display_data",
     "data": {
      "text/plain": "HBox(children=(HTML(value='Progress:'), FloatProgress(value=0.0, max=1440.0), HTML(value='')))",
      "application/vnd.jupyter.widget-view+json": {
       "version_major": 2,
       "version_minor": 0,
       "model_id": "909068ff77334e6fa5ecdd583af9ca6b"
      }
     },
     "metadata": {}
    },
    {
     "output_type": "stream",
     "name": "stdout",
     "text": [
      "==============================================\n",
      "Batch acc = 0.4375 (14.0 / 32)\n",
      "Batch f1-score = 0.4375\n",
      "(0.3684210526315789, 0.5384615384615384, 0.4375, None)\n",
      "Prediction distribution:\n",
      "(array([0, 1]), array([13, 19])) (array([0, 1]), array([19, 13]))\n",
      "[1,   501] loss: 0.694\n",
      "==============================================\n",
      "Batch acc = 0.3125 (10.0 / 32)\n",
      "Batch f1-score = 0.26666666666666666\n",
      "(0.18181818181818182, 0.5, 0.26666666666666666, None)\n",
      "Prediction distribution:\n",
      "(array([0, 1]), array([10, 22])) (array([0, 1]), array([24,  8]))\n",
      "[1,  1001] loss: 0.692\n"
     ]
    },
    {
     "output_type": "display_data",
     "data": {
      "text/plain": "HBox(children=(HTML(value=''), FloatProgress(value=0.0, max=1440.0), HTML(value='')))",
      "application/vnd.jupyter.widget-view+json": {
       "version_major": 2,
       "version_minor": 0,
       "model_id": "806aadfe47a54c3d89ce3df78acf9755"
      }
     },
     "metadata": {}
    },
    {
     "output_type": "stream",
     "name": "stdout",
     "text": [
      "\nTraining prediction:\n(array([0., 1.]), array([17053, 29025])) (array([0., 1.]), array([31816, 14262]))\n[1. 1. 1. 0. 0. 0. 0. 1. 1. 0.] [0. 0. 0. 1. 0. 0. 1. 0. 0. 0.]\nF1 of model on train set:  0.45149814031926444\nPrecision: 0.33667527993109386, Recall: 0.6851773944748282, F1: 0.45149814031926444\n"
     ]
    },
    {
     "output_type": "display_data",
     "data": {
      "text/plain": "HBox(children=(HTML(value=''), FloatProgress(value=0.0, max=360.0), HTML(value='')))",
      "application/vnd.jupyter.widget-view+json": {
       "version_major": 2,
       "version_minor": 0,
       "model_id": "4993459ae8ad4fd19b69ff4ce29debb2"
      }
     },
     "metadata": {}
    },
    {
     "output_type": "stream",
     "name": "stdout",
     "text": [
      "Testing prediction:\n(array([0., 1.]), array([4227, 7292])) (array([0., 1.]), array([7954, 3565]))\n[1. 1. 1. 1. 1. 0. 0. 0. 0. 1.] [1. 1. 1. 1. 1. 1. 1. 1. 1. 1.]\nF1 of my model on test set:  0.4434005710601455\nPrecision: 0.33008776741634666, Recall: 0.6751753155680225, F1: 0.4434005710601455\n================== EPOCH INFO: 2 ==================\n"
     ]
    },
    {
     "output_type": "display_data",
     "data": {
      "text/plain": "HBox(children=(HTML(value='Progress:'), FloatProgress(value=0.0, max=1440.0), HTML(value='')))",
      "application/vnd.jupyter.widget-view+json": {
       "version_major": 2,
       "version_minor": 0,
       "model_id": "222e29e0ebde48ad827b15eedd4943be"
      }
     },
     "metadata": {}
    },
    {
     "output_type": "stream",
     "name": "stdout",
     "text": [
      "==============================================\n",
      "Batch acc = 0.5 (16.0 / 32)\n",
      "Batch f1-score = 0.3846153846153846\n",
      "(0.2631578947368421, 0.7142857142857143, 0.3846153846153846, None)\n",
      "Prediction distribution:\n",
      "(array([0, 1]), array([13, 19])) (array([0, 1]), array([25,  7]))\n",
      "[2,   501] loss: 0.693\n",
      "==============================================\n",
      "Batch acc = 0.40625 (13.0 / 32)\n",
      "Batch f1-score = 0.17391304347826086\n",
      "(0.14285714285714285, 0.2222222222222222, 0.17391304347826086, None)\n",
      "Prediction distribution:\n",
      "(array([0, 1]), array([18, 14])) (array([0, 1]), array([23,  9]))\n",
      "[2,  1001] loss: 0.692\n"
     ]
    },
    {
     "output_type": "display_data",
     "data": {
      "text/plain": "HBox(children=(HTML(value=''), FloatProgress(value=0.0, max=1440.0), HTML(value='')))",
      "application/vnd.jupyter.widget-view+json": {
       "version_major": 2,
       "version_minor": 0,
       "model_id": "223f781a1ac5472fb6482376b29e2092"
      }
     },
     "metadata": {}
    },
    {
     "output_type": "stream",
     "name": "stdout",
     "text": [
      "\nTraining prediction:\n(array([0., 1.]), array([18724, 27354])) (array([0., 1.]), array([31816, 14262]))\n[1. 0. 1. 0. 1. 1. 1. 0. 0. 1.] [1. 0. 0. 0. 1. 0. 1. 0. 0. 1.]\nF1 of model on train set:  0.4445886197616301\nPrecision: 0.3381955107114133, Recall: 0.6486467536109942, F1: 0.4445886197616301\n"
     ]
    },
    {
     "output_type": "display_data",
     "data": {
      "text/plain": "HBox(children=(HTML(value=''), FloatProgress(value=0.0, max=360.0), HTML(value='')))",
      "application/vnd.jupyter.widget-view+json": {
       "version_major": 2,
       "version_minor": 0,
       "model_id": "e75c91bfef3e45e9a3303360dac9983d"
      }
     },
     "metadata": {}
    },
    {
     "output_type": "stream",
     "name": "stdout",
     "text": [
      "Testing prediction:\n(array([0., 1.]), array([4213, 7306])) (array([0., 1.]), array([7954, 3565]))\n[1. 1. 1. 1. 1. 0. 0. 0. 0. 1.] [1. 1. 1. 1. 1. 1. 1. 1. 1. 1.]\nF1 of my model on test set:  0.44062183791739484\nPrecision: 0.3278127566383794, Recall: 0.6718092566619915, F1: 0.44062183791739484\n================== EPOCH INFO: 3 ==================\n"
     ]
    },
    {
     "output_type": "display_data",
     "data": {
      "text/plain": "HBox(children=(HTML(value='Progress:'), FloatProgress(value=0.0, max=1440.0), HTML(value='')))",
      "application/vnd.jupyter.widget-view+json": {
       "version_major": 2,
       "version_minor": 0,
       "model_id": "dbb8db07c52c47c9a3d18e5a09720e9e"
      }
     },
     "metadata": {}
    },
    {
     "output_type": "stream",
     "name": "stdout",
     "text": [
      "==============================================\n",
      "Batch acc = 0.5625 (18.0 / 32)\n",
      "Batch f1-score = 0.5882352941176471\n",
      "(0.5555555555555556, 0.625, 0.5882352941176471, None)\n",
      "Prediction distribution:\n",
      "(array([0, 1]), array([14, 18])) (array([0, 1]), array([16, 16]))\n",
      "[3,   501] loss: 0.693\n",
      "==============================================\n",
      "Batch acc = 0.5 (16.0 / 32)\n",
      "Batch f1-score = 0.33333333333333337\n",
      "(0.3076923076923077, 0.36363636363636365, 0.33333333333333337, None)\n",
      "Prediction distribution:\n",
      "(array([0, 1]), array([19, 13])) (array([0, 1]), array([21, 11]))\n",
      "[3,  1001] loss: 0.691\n"
     ]
    },
    {
     "output_type": "display_data",
     "data": {
      "text/plain": "HBox(children=(HTML(value=''), FloatProgress(value=0.0, max=1440.0), HTML(value='')))",
      "application/vnd.jupyter.widget-view+json": {
       "version_major": 2,
       "version_minor": 0,
       "model_id": "0116321bf3504808af68f8cf83059290"
      }
     },
     "metadata": {}
    },
    {
     "output_type": "stream",
     "name": "stdout",
     "text": [
      "\nTraining prediction:\n(array([0., 1.]), array([20940, 25138])) (array([0., 1.]), array([31816, 14262]))\n[0. 1. 0. 1. 1. 1. 1. 0. 0. 0.] [0. 1. 0. 0. 0. 0. 0. 0. 0. 0.]\nF1 of model on train set:  0.4419796954314721\nPrecision: 0.34636804837298113, Recall: 0.6105034357032674, F1: 0.4419796954314721\n"
     ]
    },
    {
     "output_type": "display_data",
     "data": {
      "text/plain": "HBox(children=(HTML(value=''), FloatProgress(value=0.0, max=360.0), HTML(value='')))",
      "application/vnd.jupyter.widget-view+json": {
       "version_major": 2,
       "version_minor": 0,
       "model_id": "e7d5d86185984e2cadc24615ce8ef399"
      }
     },
     "metadata": {}
    },
    {
     "output_type": "stream",
     "name": "stdout",
     "text": [
      "Testing prediction:\n(array([0., 1.]), array([5109, 6410])) (array([0., 1.]), array([7954, 3565]))\n[1. 1. 0. 1. 1. 1. 0. 0. 0. 1.] [1. 1. 1. 1. 1. 1. 1. 1. 1. 1.]\nF1 of my model on test set:  0.4270676691729324\nPrecision: 0.33229329173166927, Recall: 0.5974754558204769, F1: 0.4270676691729324\n================== EPOCH INFO: 4 ==================\n"
     ]
    },
    {
     "output_type": "display_data",
     "data": {
      "text/plain": "HBox(children=(HTML(value='Progress:'), FloatProgress(value=0.0, max=1440.0), HTML(value='')))",
      "application/vnd.jupyter.widget-view+json": {
       "version_major": 2,
       "version_minor": 0,
       "model_id": "244946aee9ab41d28bb6cf4dc663f3f3"
      }
     },
     "metadata": {}
    },
    {
     "output_type": "stream",
     "name": "stdout",
     "text": [
      "==============================================\n",
      "Batch acc = 0.5 (16.0 / 32)\n",
      "Batch f1-score = 0.3846153846153846\n",
      "(0.3333333333333333, 0.45454545454545453, 0.3846153846153846, None)\n",
      "Prediction distribution:\n",
      "(array([0, 1]), array([17, 15])) (array([0, 1]), array([21, 11]))\n",
      "[4,   501] loss: 0.692\n",
      "==============================================\n",
      "Batch acc = 0.5625 (18.0 / 32)\n",
      "Batch f1-score = 0.36363636363636365\n",
      "(0.2857142857142857, 0.5, 0.36363636363636365, None)\n",
      "Prediction distribution:\n",
      "(array([0, 1]), array([18, 14])) (array([0, 1]), array([24,  8]))\n",
      "[4,  1001] loss: 0.692\n"
     ]
    },
    {
     "output_type": "display_data",
     "data": {
      "text/plain": "HBox(children=(HTML(value=''), FloatProgress(value=0.0, max=1440.0), HTML(value='')))",
      "application/vnd.jupyter.widget-view+json": {
       "version_major": 2,
       "version_minor": 0,
       "model_id": "32c62b8b5a63439ab39575cd32d11240"
      }
     },
     "metadata": {}
    },
    {
     "output_type": "stream",
     "name": "stdout",
     "text": [
      "\nTraining prediction:\n(array([0., 1.]), array([30644, 15434])) (array([0., 1.]), array([31816, 14262]))\n[1. 0. 1. 1. 1. 1. 1. 0. 0. 0.] [0. 0. 0. 1. 1. 0. 0. 0. 1. 1.]\nF1 of model on train set:  0.3752693965517242\nPrecision: 0.36102112219774524, Recall: 0.39068854298134903, F1: 0.3752693965517242\n"
     ]
    },
    {
     "output_type": "display_data",
     "data": {
      "text/plain": "HBox(children=(HTML(value=''), FloatProgress(value=0.0, max=360.0), HTML(value='')))",
      "application/vnd.jupyter.widget-view+json": {
       "version_major": 2,
       "version_minor": 0,
       "model_id": "7d1188733bd94e59bfdff9082f082780"
      }
     },
     "metadata": {}
    },
    {
     "output_type": "stream",
     "name": "stdout",
     "text": [
      "Testing prediction:\n(array([0., 1.]), array([7413, 4106])) (array([0., 1.]), array([7954, 3565]))\n[1. 0. 0. 0. 1. 0. 0. 0. 0. 0.] [1. 1. 1. 1. 1. 1. 1. 1. 1. 1.]\nF1 of my model on test set:  0.3788293573197758\nPrecision: 0.35387238188017534, Recall: 0.40757363253856943, F1: 0.3788293573197758\n================== EPOCH INFO: 5 ==================\n"
     ]
    },
    {
     "output_type": "display_data",
     "data": {
      "text/plain": "HBox(children=(HTML(value='Progress:'), FloatProgress(value=0.0, max=1440.0), HTML(value='')))",
      "application/vnd.jupyter.widget-view+json": {
       "version_major": 2,
       "version_minor": 0,
       "model_id": "24d2323203494592a93fd0e2bb42ff36"
      }
     },
     "metadata": {}
    },
    {
     "output_type": "stream",
     "name": "stdout",
     "text": [
      "==============================================\n",
      "Batch acc = 0.5625 (18.0 / 32)\n",
      "Batch f1-score = 0.4166666666666667\n",
      "(0.3333333333333333, 0.5555555555555556, 0.4166666666666667, None)\n",
      "Prediction distribution:\n",
      "(array([0, 1]), array([17, 15])) (array([0, 1]), array([23,  9]))\n",
      "[5,   501] loss: 0.691\n",
      "==============================================\n",
      "Batch acc = 0.5 (16.0 / 32)\n",
      "Batch f1-score = 0.3333333333333333\n",
      "(0.23529411764705882, 0.5714285714285714, 0.3333333333333333, None)\n",
      "Prediction distribution:\n",
      "(array([0, 1]), array([15, 17])) (array([0, 1]), array([25,  7]))\n",
      "[5,  1001] loss: 0.690\n"
     ]
    },
    {
     "output_type": "display_data",
     "data": {
      "text/plain": "HBox(children=(HTML(value=''), FloatProgress(value=0.0, max=1440.0), HTML(value='')))",
      "application/vnd.jupyter.widget-view+json": {
       "version_major": 2,
       "version_minor": 0,
       "model_id": "99cb42c4cd0d473db02a907a5c63399d"
      }
     },
     "metadata": {}
    },
    {
     "output_type": "stream",
     "name": "stdout",
     "text": [
      "\nTraining prediction:\n(array([0., 1.]), array([21717, 24361])) (array([0., 1.]), array([31816, 14262]))\n[1. 0. 0. 0. 0. 0. 0. 0. 1. 1.] [0. 0. 0. 1. 0. 0. 0. 1. 0. 1.]\nF1 of model on train set:  0.43766667529710274\nPrecision: 0.3469479906407783, Recall: 0.5926237554340205, F1: 0.43766667529710274\n"
     ]
    },
    {
     "output_type": "display_data",
     "data": {
      "text/plain": "HBox(children=(HTML(value=''), FloatProgress(value=0.0, max=360.0), HTML(value='')))",
      "application/vnd.jupyter.widget-view+json": {
       "version_major": 2,
       "version_minor": 0,
       "model_id": "4ea739cfdd7545a2bb5e3813313baf95"
      }
     },
     "metadata": {}
    },
    {
     "output_type": "stream",
     "name": "stdout",
     "text": [
      "Testing prediction:\n(array([0., 1.]), array([5548, 5971])) (array([0., 1.]), array([7954, 3565]))\n[1. 1. 0. 1. 1. 0. 0. 0. 0. 1.] [1. 1. 1. 1. 1. 1. 1. 1. 1. 1.]\nF1 of my model on test set:  0.4236577181208054\nPrecision: 0.3383017919946408, Recall: 0.5666199158485273, F1: 0.4236577181208054\n"
     ]
    }
   ],
   "source": [
    "### Second try\n",
    "LR = 1e-3\n",
    "# optimizer = optim.Adam(net.parameters(), lr=1e-3)\n",
    "optimizer = optim.SGD(net.parameters(), lr=LR)\n",
    "\n",
    "for epoch in tqdm(range(epochs), desc='Epochs: '):  # loop over the dataset multiple times\n",
    "    print(\"================== EPOCH INFO: {} ==================\".format(epoch + 1))\n",
    "    net.train()     # Train mode\n",
    "    running_loss = 0.0\n",
    "    for i, data in enumerate(tqdm(trainloader, desc='Progress:'), 0):\n",
    "        # get the inputs; data is a list of [inputs, labels]\n",
    "        inputs, labels = data[0].to(device), data[1].to(device)\n",
    "        labels = labels.view(-1)\n",
    "\n",
    "        # zero the parameter gradients\n",
    "        optimizer.zero_grad()\n",
    "\n",
    "        # forward + backward + optimize\n",
    "        outputs = net(inputs)\n",
    "\n",
    "        # print(data[0].shape, data[1].shape)\n",
    "        # print(inputs.shape)\n",
    "        # print(labels.shape, outputs.shape)\n",
    "\n",
    "        loss = criterion(outputs, labels)\n",
    "        loss.backward()\n",
    "        optimizer.step()\n",
    "\n",
    "        # print statistics\n",
    "        running_loss += loss.item()\n",
    "        interval = 500\n",
    "        if i % interval == 0 and i != 0:    # print every interval\n",
    "            _, y_pred_tag = torch.max(outputs, 1)\n",
    "            correct_results_sum = (y_pred_tag == labels).sum().float()\n",
    "            acc = correct_results_sum / labels.shape[0]\n",
    "\n",
    "            y_pred_np = y_pred_tag.cpu().detach().numpy()\n",
    "            y_true_np = labels.cpu().detach().numpy()\n",
    "            print(\"==============================================\")\n",
    "            print(\"Batch acc = {} ({} / {})\".format(acc, correct_results_sum, labels.shape[0]))\n",
    "            print(\"Batch f1-score = {}\".format(f1_score(y_true_np, y_pred_np, average='binary')))\n",
    "            print(precision_recall_fscore_support(y_true_np, y_pred_np, average='binary'))\n",
    "\n",
    "            print(\"Prediction distribution:\")\n",
    "            print(np.unique(y_pred_np, return_counts=True), np.unique(y_true_np, return_counts=True))\n",
    "            # print(y_pred_np, y_true_np)\n",
    "\n",
    "            print('[%d, %5d] loss: %.3f' %\n",
    "                  (epoch + 1, i + 1, running_loss / interval))\n",
    "            running_loss = 0.0\n",
    "\n",
    "    # Eval mode\n",
    "    net.eval()\n",
    "    # Training score\n",
    "    y_pred_train = np.array([])\n",
    "    y_true_train = np.array([])\n",
    "    with torch.no_grad():\n",
    "        for data_test in tqdm(trainloader):\n",
    "            images, labels = data_test[0].to(device), data_test[1].to(device)\n",
    "            outputs = net(images)\n",
    "\n",
    "            _, y_pred_tag = torch.max(outputs, 1)\n",
    "            y_pred_train = np.hstack([y_pred_train, y_pred_tag.cpu().detach().numpy()])\n",
    "\n",
    "            y_true_train = np.hstack([y_true_train, labels.cpu().detach().numpy()])\n",
    "\n",
    "    precision_train, recall_train, f1_train, support_train = precision_recall_fscore_support(y_true_train, y_pred_train, average='binary')\n",
    "\n",
    "    print()\n",
    "    print(\"Training prediction:\")\n",
    "    print(np.unique(y_pred_train, return_counts=True), np.unique(y_true_train, return_counts=True))\n",
    "    print(y_pred_train[0:10], y_true_train[0:10])\n",
    "    print(\"F1 of model on train set: \", f1_score(y_true_train, y_pred_train, average='binary'))\n",
    "    print(\"Precision: {}, Recall: {}, F1: {}\".format(precision_train, recall_train, f1_train))\n",
    "\n",
    "    # Testing score\n",
    "    y_pred_test = np.array([])\n",
    "    y_true_test = np.array([])\n",
    "    with torch.no_grad():\n",
    "        for data_test in tqdm(testloader):\n",
    "            images, labels = data_test[0].to(device), data_test[1].to(device)\n",
    "            outputs = net(images)\n",
    "\n",
    "            _, y_pred_tag = torch.max(outputs, 1)\n",
    "            y_pred_test = np.hstack([y_pred_test, y_pred_tag.cpu().detach().numpy()])\n",
    "                \n",
    "            y_true_test = np.hstack([y_true_test, labels.cpu().detach().numpy()])\n",
    "    \n",
    "    precision_test, recall_test, f1_test, support_test = precision_recall_fscore_support(y_true_test, y_pred_test, average='binary')\n",
    "\n",
    "    print(\"Testing prediction:\")\n",
    "    print(np.unique(y_pred_test, return_counts=True), np.unique(y_true_test, return_counts=True))\n",
    "    print(y_pred_test[0:10], y_true_test[0:10])\n",
    "    print(\"F1 of my model on test set: \", f1_score(y_true_test, y_pred_test, average='binary'))\n",
    "    print(\"Precision: {}, Recall: {}, F1: {}\".format(precision_test, recall_test, f1_test))\n",
    "\n",
    "\n",
    "    # record precision, recall, f1-score into file\n",
    "    with open('record/{}_{}_train_loss'.format(MODEL, timestr), 'a') as f_train, open('record/{}_{}_test_loss'.format(MODEL, timestr), 'a') as f_test:\n",
    "        f_train.write(str(precision_train) + ', ' + str(recall_train) + ', ' + str(f1_train) + '\\n')\n",
    "        f_test.write(str(precision_test) + ', ' + str(recall_test) + ', ' + str(f1_test) + '\\n')\n",
    "\n",
    "    # save model for every epoch\n",
    "    torch.save(net.state_dict(), './model/{}_{}_{}_{}_{}_{}'.format(MODEL, timestr, LR, epoch, f1_train, f1_test))"
   ]
  },
  {
   "cell_type": "code",
   "execution_count": 15,
   "metadata": {},
   "outputs": [
    {
     "output_type": "stream",
     "name": "stdout",
     "text": [
      "Loaded pretrained weights for efficientnet-b4\n"
     ]
    },
    {
     "output_type": "execute_result",
     "data": {
      "text/plain": [
       "rnel_size=(1, 1), stride=(1, 1)\n",
       "          (static_padding): Identity()\n",
       "        )\n",
       "        (_se_expand): Conv2dStaticSamePadding(\n",
       "          28, 672, kernel_size=(1, 1), stride=(1, 1)\n",
       "          (static_padding): Identity()\n",
       "        )\n",
       "        (_project_conv): Conv2dStaticSamePadding(\n",
       "          672, 160, kernel_size=(1, 1), stride=(1, 1), bias=False\n",
       "          (static_padding): Identity()\n",
       "        )\n",
       "        (_bn2): BatchNorm2d(160, eps=0.001, momentum=0.010000000000000009, affine=True, track_running_stats=True)\n",
       "        (_swish): MemoryEfficientSwish()\n",
       "      )\n",
       "      (17): MBConvBlock(\n",
       "        (_expand_conv): Conv2dStaticSamePadding(\n",
       "          160, 960, kernel_size=(1, 1), stride=(1, 1), bias=False\n",
       "          (static_padding): Identity()\n",
       "        )\n",
       "        (_bn0): BatchNorm2d(960, eps=0.001, momentum=0.010000000000000009, affine=True, track_running_stats=True)\n",
       "        (_depthwise_conv): Conv2dStaticSamePadding(\n",
       "          960, 960, kernel_size=(5, 5), stride=(1, 1), groups=960, bias=False\n",
       "          (static_padding): ZeroPad2d(padding=(2, 2, 2, 2), value=0.0)\n",
       "        )\n",
       "        (_bn1): BatchNorm2d(960, eps=0.001, momentum=0.010000000000000009, affine=True, track_running_stats=True)\n",
       "        (_se_reduce): Conv2dStaticSamePadding(\n",
       "          960, 40, kernel_size=(1, 1), stride=(1, 1)\n",
       "          (static_padding): Identity()\n",
       "        )\n",
       "        (_se_expand): Conv2dStaticSamePadding(\n",
       "          40, 960, kernel_size=(1, 1), stride=(1, 1)\n",
       "          (static_padding): Identity()\n",
       "        )\n",
       "        (_project_conv): Conv2dStaticSamePadding(\n",
       "          960, 160, kernel_size=(1, 1), stride=(1, 1), bias=False\n",
       "          (static_padding): Identity()\n",
       "        )\n",
       "        (_bn2): BatchNorm2d(160, eps=0.001, momentum=0.010000000000000009, affine=True, track_running_stats=True)\n",
       "        (_swish): MemoryEfficientSwish()\n",
       "      )\n",
       "      (18): MBConvBlock(\n",
       "        (_expand_conv): Conv2dStaticSamePadding(\n",
       "          160, 960, kernel_size=(1, 1), stride=(1, 1), bias=False\n",
       "          (static_padding): Identity()\n",
       "        )\n",
       "        (_bn0): BatchNorm2d(960, eps=0.001, momentum=0.010000000000000009, affine=True, track_running_stats=True)\n",
       "        (_depthwise_conv): Conv2dStaticSamePadding(\n",
       "          960, 960, kernel_size=(5, 5), stride=(1, 1), groups=960, bias=False\n",
       "          (static_padding): ZeroPad2d(padding=(2, 2, 2, 2), value=0.0)\n",
       "        )\n",
       "        (_bn1): BatchNorm2d(960, eps=0.001, momentum=0.010000000000000009, affine=True, track_running_stats=True)\n",
       "        (_se_reduce): Conv2dStaticSamePadding(\n",
       "          960, 40, kernel_size=(1, 1), stride=(1, 1)\n",
       "          (static_padding): Identity()\n",
       "        )\n",
       "        (_se_expand): Conv2dStaticSamePadding(\n",
       "          40, 960, kernel_size=(1, 1), stride=(1, 1)\n",
       "          (static_padding): Identity()\n",
       "        )\n",
       "        (_project_conv): Conv2dStaticSamePadding(\n",
       "          960, 160, kernel_size=(1, 1), stride=(1, 1), bias=False\n",
       "          (static_padding): Identity()\n",
       "        )\n",
       "        (_bn2): BatchNorm2d(160, eps=0.001, momentum=0.010000000000000009, affine=True, track_running_stats=True)\n",
       "        (_swish): MemoryEfficientSwish()\n",
       "      )\n",
       "      (19): MBConvBlock(\n",
       "        (_expand_conv): Conv2dStaticSamePadding(\n",
       "          160, 960, kernel_size=(1, 1), stride=(1, 1), bias=False\n",
       "          (static_padding): Identity()\n",
       "        )\n",
       "        (_bn0): BatchNorm2d(960, eps=0.001, momentum=0.010000000000000009, affine=True, track_running_stats=True)\n",
       "        (_depthwise_conv): Conv2dStaticSamePadding(\n",
       "          960, 960, kernel_size=(5, 5), stride=(1, 1), groups=960, bias=False\n",
       "          (static_padding): ZeroPad2d(padding=(2, 2, 2, 2), value=0.0)\n",
       "        )\n",
       "        (_bn1): BatchNorm2d(960, eps=0.001, momentum=0.010000000000000009, affine=True, track_running_stats=True)\n",
       "        (_se_reduce): Conv2dStaticSamePadding(\n",
       "          960, 40, kernel_size=(1, 1), stride=(1, 1)\n",
       "          (static_padding): Identity()\n",
       "        )\n",
       "        (_se_expand): Conv2dStaticSamePadding(\n",
       "          40, 960, kernel_size=(1, 1), stride=(1, 1)\n",
       "          (static_padding): Identity()\n",
       "        )\n",
       "        (_project_conv): Conv2dStaticSamePadding(\n",
       "          960, 160, kernel_size=(1, 1), stride=(1, 1), bias=False\n",
       "          (static_padding): Identity()\n",
       "        )\n",
       "        (_bn2): BatchNorm2d(160, eps=0.001, momentum=0.010000000000000009, affine=True, track_running_stats=True)\n",
       "        (_swish): MemoryEfficientSwish()\n",
       "      )\n",
       "      (20): MBConvBlock(\n",
       "        (_expand_conv): Conv2dStaticSamePadding(\n",
       "          160, 960, kernel_size=(1, 1), stride=(1, 1), bias=False\n",
       "          (static_padding): Identity()\n",
       "        )\n",
       "        (_bn0): BatchNorm2d(960, eps=0.001, momentum=0.010000000000000009, affine=True, track_running_stats=True)\n",
       "        (_depthwise_conv): Conv2dStaticSamePadding(\n",
       "          960, 960, kernel_size=(5, 5), stride=(1, 1), groups=960, bias=False\n",
       "          (static_padding): ZeroPad2d(padding=(2, 2, 2, 2), value=0.0)\n",
       "        )\n",
       "        (_bn1): BatchNorm2d(960, eps=0.001, momentum=0.010000000000000009, affine=True, track_running_stats=True)\n",
       "        (_se_reduce): Conv2dStaticSamePadding(\n",
       "          960, 40, kernel_size=(1, 1), stride=(1, 1)\n",
       "          (static_padding): Identity()\n",
       "        )\n",
       "        (_se_expand): Conv2dStaticSamePadding(\n",
       "          40, 960, kernel_size=(1, 1), stride=(1, 1)\n",
       "          (static_padding): Identity()\n",
       "        )\n",
       "        (_project_conv): Conv2dStaticSamePadding(\n",
       "          960, 160, kernel_size=(1, 1), stride=(1, 1), bias=False\n",
       "          (static_padding): Identity()\n",
       "        )\n",
       "        (_bn2): BatchNorm2d(160, eps=0.001, momentum=0.010000000000000009, affine=True, track_running_stats=True)\n",
       "        (_swish): MemoryEfficientSwish()\n",
       "      )\n",
       "      (21): MBConvBlock(\n",
       "        (_expand_conv): Conv2dStaticSamePadding(\n",
       "          160, 960, kernel_size=(1, 1), stride=(1, 1), bias=False\n",
       "          (static_padding): Identity()\n",
       "        )\n",
       "        (_bn0): BatchNorm2d(960, eps=0.001, momentum=0.010000000000000009, affine=True, track_running_stats=True)\n",
       "        (_depthwise_conv): Conv2dStaticSamePadding(\n",
       "          960, 960, kernel_size=(5, 5), stride=(1, 1), groups=960, bias=False\n",
       "          (static_padding): ZeroPad2d(padding=(2, 2, 2, 2), value=0.0)\n",
       "        )\n",
       "        (_bn1): BatchNorm2d(960, eps=0.001, momentum=0.010000000000000009, affine=True, track_running_stats=True)\n",
       "        (_se_reduce): Conv2dStaticSamePadding(\n",
       "          960, 40, kernel_size=(1, 1), stride=(1, 1)\n",
       "          (static_padding): Identity()\n",
       "        )\n",
       "        (_se_expand): Conv2dStaticSamePadding(\n",
       "          40, 960, kernel_size=(1, 1), stride=(1, 1)\n",
       "          (static_padding): Identity()\n",
       "        )\n",
       "        (_project_conv): Conv2dStaticSamePadding(\n",
       "          960, 160, kernel_size=(1, 1), stride=(1, 1), bias=False\n",
       "          (static_padding): Identity()\n",
       "        )\n",
       "        (_bn2): BatchNorm2d(160, eps=0.001, momentum=0.010000000000000009, affine=True, track_running_stats=True)\n",
       "        (_swish): MemoryEfficientSwish()\n",
       "      )\n",
       "      (22): MBConvBlock(\n",
       "        (_expand_conv): Conv2dStaticSamePadding(\n",
       "          160, 960, kernel_size=(1, 1), stride=(1, 1), bias=False\n",
       "          (static_padding): Identity()\n",
       "        )\n",
       "        (_bn0): BatchNorm2d(960, eps=0.001, momentum=0.010000000000000009, affine=True, track_running_stats=True)\n",
       "        (_depthwise_conv): Conv2dStaticSamePadding(\n",
       "          960, 960, kernel_size=(5, 5), stride=[2, 2], groups=960, bias=False\n",
       "          (static_padding): ZeroPad2d(padding=(2, 2, 2, 2), value=0.0)\n",
       "        )\n",
       "        (_bn1): BatchNorm2d(960, eps=0.001, momentum=0.010000000000000009, affine=True, track_running_stats=True)\n",
       "        (_se_reduce): Conv2dStaticSamePadding(\n",
       "          960, 40, kernel_size=(1, 1), stride=(1, 1)\n",
       "          (static_padding): Identity()\n",
       "        )\n",
       "        (_se_expand): Conv2dStaticSamePadding(\n",
       "          40, 960, kernel_size=(1, 1), stride=(1, 1)\n",
       "          (static_padding): Identity()\n",
       "        )\n",
       "        (_project_conv): Conv2dStaticSamePadding(\n",
       "          960, 272, kernel_size=(1, 1), stride=(1, 1), bias=False\n",
       "          (static_padding): Identity()\n",
       "        )\n",
       "        (_bn2): BatchNorm2d(272, eps=0.001, momentum=0.010000000000000009, affine=True, track_running_stats=True)\n",
       "        (_swish): MemoryEfficientSwish()\n",
       "      )\n",
       "      (23): MBConvBlock(\n",
       "        (_expand_conv): Conv2dStaticSamePadding(\n",
       "          272, 1632, kernel_size=(1, 1), stride=(1, 1), bias=False\n",
       "          (static_padding): Identity()\n",
       "        )\n",
       "        (_bn0): BatchNorm2d(1632, eps=0.001, momentum=0.010000000000000009, affine=True, track_running_stats=True)\n",
       "        (_depthwise_conv): Conv2dStaticSamePadding(\n",
       "          1632, 1632, kernel_size=(5, 5), stride=(1, 1), groups=1632, bias=False\n",
       "          (static_padding): ZeroPad2d(padding=(2, 2, 2, 2), value=0.0)\n",
       "        )\n",
       "        (_bn1): BatchNorm2d(1632, eps=0.001, momentum=0.010000000000000009, affine=True, track_running_stats=True)\n",
       "        (_se_reduce): Conv2dStaticSamePadding(\n",
       "          1632, 68, kernel_size=(1, 1), stride=(1, 1)\n",
       "          (static_padding): Identity()\n",
       "        )\n",
       "        (_se_expand): Conv2dStaticSamePadding(\n",
       "          68, 1632, kernel_size=(1, 1), stride=(1, 1)\n",
       "          (static_padding): Identity()\n",
       "        )\n",
       "        (_project_conv): Conv2dStaticSamePadding(\n",
       "          1632, 272, kernel_size=(1, 1), stride=(1, 1), bias=False\n",
       "          (static_padding): Identity()\n",
       "        )\n",
       "        (_bn2): BatchNorm2d(272, eps=0.001, momentum=0.010000000000000009, affine=True, track_running_stats=True)\n",
       "        (_swish): MemoryEfficientSwish()\n",
       "      )\n",
       "      (24): MBConvBlock(\n",
       "        (_expand_conv): Conv2dStaticSamePadding(\n",
       "          272, 1632, kernel_size=(1, 1), stride=(1, 1), bias=False\n",
       "          (static_padding): Identity()\n",
       "        )\n",
       "        (_bn0): BatchNorm2d(1632, eps=0.001, momentum=0.010000000000000009, affine=True, track_running_stats=True)\n",
       "        (_depthwise_conv): Conv2dStaticSamePadding(\n",
       "          1632, 1632, kernel_size=(5, 5), stride=(1, 1), groups=1632, bias=False\n",
       "          (static_padding): ZeroPad2d(padding=(2, 2, 2, 2), value=0.0)\n",
       "        )\n",
       "        (_bn1): BatchNorm2d(1632, eps=0.001, momentum=0.010000000000000009, affine=True, track_running_stats=True)\n",
       "        (_se_reduce): Conv2dStaticSamePadding(\n",
       "          1632, 68, kernel_size=(1, 1), stride=(1, 1)\n",
       "          (static_padding): Identity()\n",
       "        )\n",
       "        (_se_expand): Conv2dStaticSamePadding(\n",
       "          68, 1632, kernel_size=(1, 1), stride=(1, 1)\n",
       "          (static_padding): Identity()\n",
       "        )\n",
       "        (_project_conv): Conv2dStaticSamePadding(\n",
       "          1632, 272, kernel_size=(1, 1), stride=(1, 1), bias=False\n",
       "          (static_padding): Identity()\n",
       "        )\n",
       "        (_bn2): BatchNorm2d(272, eps=0.001, momentum=0.010000000000000009, affine=True, track_running_stats=True)\n",
       "        (_swish): MemoryEfficientSwish()\n",
       "      )\n",
       "      (25): MBConvBlock(\n",
       "        (_expand_conv): Conv2dStaticSamePadding(\n",
       "          272, 1632, kernel_size=(1, 1), stride=(1, 1), bias=False\n",
       "          (static_padding): Identity()\n",
       "        )\n",
       "        (_bn0): BatchNorm2d(1632, eps=0.001, momentum=0.010000000000000009, affine=True, track_running_stats=True)\n",
       "        (_depthwise_conv): Conv2dStaticSamePadding(\n",
       "          1632, 1632, kernel_size=(5, 5), stride=(1, 1), groups=1632, bias=False\n",
       "          (static_padding): ZeroPad2d(padding=(2, 2, 2, 2), value=0.0)\n",
       "        )\n",
       "        (_bn1): BatchNorm2d(1632, eps=0.001, momentum=0.010000000000000009, affine=True, track_running_stats=True)\n",
       "        (_se_reduce): Conv2dStaticSamePadding(\n",
       "          1632, 68, kernel_size=(1, 1), stride=(1, 1)\n",
       "          (static_padding): Identity()\n",
       "        )\n",
       "        (_se_expand): Conv2dStaticSamePadding(\n",
       "          68, 1632, kernel_size=(1, 1), stride=(1, 1)\n",
       "          (static_padding): Identity()\n",
       "        )\n",
       "        (_project_conv): Conv2dStaticSamePadding(\n",
       "          1632, 272, kernel_size=(1, 1), stride=(1, 1), bias=False\n",
       "          (static_padding): Identity()\n",
       "        )\n",
       "        (_bn2): BatchNorm2d(272, eps=0.001, momentum=0.010000000000000009, affine=True, track_running_stats=True)\n",
       "        (_swish): MemoryEfficientSwish()\n",
       "      )\n",
       "      (26): MBConvBlock(\n",
       "        (_expand_conv): Conv2dStaticSamePadding(\n",
       "          272, 1632, kernel_size=(1, 1), stride=(1, 1), bias=False\n",
       "          (static_padding): Identity()\n",
       "        )\n",
       "        (_bn0): BatchNorm2d(1632, eps=0.001, momentum=0.010000000000000009, affine=True, track_running_stats=True)\n",
       "        (_depthwise_conv): Conv2dStaticSamePadding(\n",
       "          1632, 1632, kernel_size=(5, 5), stride=(1, 1), groups=1632, bias=False\n",
       "          (static_padding): ZeroPad2d(padding=(2, 2, 2, 2), value=0.0)\n",
       "        )\n",
       "        (_bn1): BatchNorm2d(1632, eps=0.001, momentum=0.010000000000000009, affine=True, track_running_stats=True)\n",
       "        (_se_reduce): Conv2dStaticSamePadding(\n",
       "          1632, 68, kernel_size=(1, 1), stride=(1, 1)\n",
       "          (static_padding): Identity()\n",
       "        )\n",
       "        (_se_expand): Conv2dStaticSamePadding(\n",
       "          68, 1632, kernel_size=(1, 1), stride=(1, 1)\n",
       "          (static_padding): Identity()\n",
       "        )\n",
       "        (_project_conv): Conv2dStaticSamePadding(\n",
       "          1632, 272, kernel_size=(1, 1), stride=(1, 1), bias=False\n",
       "          (static_padding): Identity()\n",
       "        )\n",
       "        (_bn2): BatchNorm2d(272, eps=0.001, momentum=0.010000000000000009, affine=True, track_running_stats=True)\n",
       "        (_swish): MemoryEfficientSwish()\n",
       "      )\n",
       "      (27): MBConvBlock(\n",
       "        (_expand_conv): Conv2dStaticSamePadding(\n",
       "          272, 1632, kernel_size=(1, 1), stride=(1, 1), bias=False\n",
       "          (static_padding): Identity()\n",
       "        )\n",
       "        (_bn0): BatchNorm2d(1632, eps=0.001, momentum=0.010000000000000009, affine=True, track_running_stats=True)\n",
       "        (_depthwise_conv): Conv2dStaticSamePadding(\n",
       "          1632, 1632, kernel_size=(5, 5), stride=(1, 1), groups=1632, bias=False\n",
       "          (static_padding): ZeroPad2d(padding=(2, 2, 2, 2), value=0.0)\n",
       "        )\n",
       "        (_bn1): BatchNorm2d(1632, eps=0.001, momentum=0.010000000000000009, affine=True, track_running_stats=True)\n",
       "        (_se_reduce): Conv2dStaticSamePadding(\n",
       "          1632, 68, kernel_size=(1, 1), stride=(1, 1)\n",
       "          (static_padding): Identity()\n",
       "        )\n",
       "        (_se_expand): Conv2dStaticSamePadding(\n",
       "          68, 1632, kernel_size=(1, 1), stride=(1, 1)\n",
       "          (static_padding): Identity()\n",
       "        )\n",
       "        (_project_conv): Conv2dStaticSamePadding(\n",
       "          1632, 272, kernel_size=(1, 1), stride=(1, 1), bias=False\n",
       "          (static_padding): Identity()\n",
       "        )\n",
       "        (_bn2): BatchNorm2d(272, eps=0.001, momentum=0.010000000000000009, affine=True, track_running_stats=True)\n",
       "        (_swish): MemoryEfficientSwish()\n",
       "      )\n",
       "      (28): MBConvBlock(\n",
       "        (_expand_conv): Conv2dStaticSamePadding(\n",
       "          272, 1632, kernel_size=(1, 1), stride=(1, 1), bias=False\n",
       "          (static_padding): Identity()\n",
       "        )\n",
       "        (_bn0): BatchNorm2d(1632, eps=0.001, momentum=0.010000000000000009, affine=True, track_running_stats=True)\n",
       "        (_depthwise_conv): Conv2dStaticSamePadding(\n",
       "          1632, 1632, kernel_size=(5, 5), stride=(1, 1), groups=1632, bias=False\n",
       "          (static_padding): ZeroPad2d(padding=(2, 2, 2, 2), value=0.0)\n",
       "        )\n",
       "        (_bn1): BatchNorm2d(1632, eps=0.001, momentum=0.010000000000000009, affine=True, track_running_stats=True)\n",
       "        (_se_reduce): Conv2dStaticSamePadding(\n",
       "          1632, 68, kernel_size=(1, 1), stride=(1, 1)\n",
       "          (static_padding): Identity()\n",
       "        )\n",
       "        (_se_expand): Conv2dStaticSamePadding(\n",
       "          68, 1632, kernel_size=(1, 1), stride=(1, 1)\n",
       "          (static_padding): Identity()\n",
       "        )\n",
       "        (_project_conv): Conv2dStaticSamePadding(\n",
       "          1632, 272, kernel_size=(1, 1), stride=(1, 1), bias=False\n",
       "          (static_padding): Identity()\n",
       "        )\n",
       "        (_bn2): BatchNorm2d(272, eps=0.001, momentum=0.010000000000000009, affine=True, track_running_stats=True)\n",
       "        (_swish): MemoryEfficientSwish()\n",
       "      )\n",
       "      (29): MBConvBlock(\n",
       "        (_expand_conv): Conv2dStaticSamePadding(\n",
       "          272, 1632, kernel_size=(1, 1), stride=(1, 1), bias=False\n",
       "          (static_padding): Identity()\n",
       "        )\n",
       "        (_bn0): BatchNorm2d(1632, eps=0.001, momentum=0.010000000000000009, affine=True, track_running_stats=True)\n",
       "        (_depthwise_conv): Conv2dStaticSamePadding(\n",
       "          1632, 1632, kernel_size=(5, 5), stride=(1, 1), groups=1632, bias=False\n",
       "          (static_padding): ZeroPad2d(padding=(2, 2, 2, 2), value=0.0)\n",
       "        )\n",
       "        (_bn1): BatchNorm2d(1632, eps=0.001, momentum=0.010000000000000009, affine=True, track_running_stats=True)\n",
       "        (_se_reduce): Conv2dStaticSamePadding(\n",
       "          1632, 68, kernel_size=(1, 1), stride=(1, 1)\n",
       "          (static_padding): Identity()\n",
       "        )\n",
       "        (_se_expand): Conv2dStaticSamePadding(\n",
       "          68, 1632, kernel_size=(1, 1), stride=(1, 1)\n",
       "          (static_padding): Identity()\n",
       "        )\n",
       "        (_project_conv): Conv2dStaticSamePadding(\n",
       "          1632, 272, kernel_size=(1, 1), stride=(1, 1), bias=False\n",
       "          (static_padding): Identity()\n",
       "        )\n",
       "        (_bn2): BatchNorm2d(272, eps=0.001, momentum=0.010000000000000009, affine=True, track_running_stats=True)\n",
       "        (_swish): MemoryEfficientSwish()\n",
       "      )\n",
       "      (30): MBConvBlock(\n",
       "        (_expand_conv): Conv2dStaticSamePadding(\n",
       "          272, 1632, kernel_size=(1, 1), stride=(1, 1), bias=False\n",
       "          (static_padding): Identity()\n",
       "        )\n",
       "        (_bn0): BatchNorm2d(1632, eps=0.001, momentum=0.010000000000000009, affine=True, track_running_stats=True)\n",
       "        (_depthwise_conv): Conv2dStaticSamePadding(\n",
       "          1632, 1632, kernel_size=(3, 3), stride=[1, 1], groups=1632, bias=False\n",
       "          (static_padding): ZeroPad2d(padding=(1, 1, 1, 1), value=0.0)\n",
       "        )\n",
       "        (_bn1): BatchNorm2d(1632, eps=0.001, momentum=0.010000000000000009, affine=True, track_running_stats=True)\n",
       "        (_se_reduce): Conv2dStaticSamePadding(\n",
       "          1632, 68, kernel_size=(1, 1), stride=(1, 1)\n",
       "          (static_padding): Identity()\n",
       "        )\n",
       "        (_se_expand): Conv2dStaticSamePadding(\n",
       "          68, 1632, kernel_size=(1, 1), stride=(1, 1)\n",
       "          (static_padding): Identity()\n",
       "        )\n",
       "        (_project_conv): Conv2dStaticSamePadding(\n",
       "          1632, 448, kernel_size=(1, 1), stride=(1, 1), bias=False\n",
       "          (static_padding): Identity()\n",
       "        )\n",
       "        (_bn2): BatchNorm2d(448, eps=0.001, momentum=0.010000000000000009, affine=True, track_running_stats=True)\n",
       "        (_swish): MemoryEfficientSwish()\n",
       "      )\n",
       "      (31): MBConvBlock(\n",
       "        (_expand_conv): Conv2dStaticSamePadding(\n",
       "          448, 2688, kernel_size=(1, 1), stride=(1, 1), bias=False\n",
       "          (static_padding): Identity()\n",
       "        )\n",
       "        (_bn0): BatchNorm2d(2688, eps=0.001, momentum=0.010000000000000009, affine=True, track_running_stats=True)\n",
       "        (_depthwise_conv): Conv2dStaticSamePadding(\n",
       "          2688, 2688, kernel_size=(3, 3), stride=(1, 1), groups=2688, bias=False\n",
       "          (static_padding): ZeroPad2d(padding=(1, 1, 1, 1), value=0.0)\n",
       "        )\n",
       "        (_bn1): BatchNorm2d(2688, eps=0.001, momentum=0.010000000000000009, affine=True, track_running_stats=True)\n",
       "        (_se_reduce): Conv2dStaticSamePadding(\n",
       "          2688, 112, kernel_size=(1, 1), stride=(1, 1)\n",
       "          (static_padding): Identity()\n",
       "        )\n",
       "        (_se_expand): Conv2dStaticSamePadding(\n",
       "          112, 2688, kernel_size=(1, 1), stride=(1, 1)\n",
       "          (static_padding): Identity()\n",
       "        )\n",
       "        (_project_conv): Conv2dStaticSamePadding(\n",
       "          2688, 448, kernel_size=(1, 1), stride=(1, 1), bias=False\n",
       "          (static_padding): Identity()\n",
       "        )\n",
       "        (_bn2): BatchNorm2d(448, eps=0.001, momentum=0.010000000000000009, affine=True, track_running_stats=True)\n",
       "        (_swish): MemoryEfficientSwish()\n",
       "      )\n",
       "    )\n",
       "    (_conv_head): Conv2dStaticSamePadding(\n",
       "      448, 1792, kernel_size=(1, 1), stride=(1, 1), bias=False\n",
       "      (static_padding): Identity()\n",
       "    )\n",
       "    (_bn1): BatchNorm2d(1792, eps=0.001, momentum=0.010000000000000009, affine=True, track_running_stats=True)\n",
       "    (_avg_pooling): AdaptiveAvgPool2d(output_size=1)\n",
       "    (_dropout): Dropout(p=0.4, inplace=False)\n",
       "    (_fc): Linear(in_features=1792, out_features=1000, bias=True)\n",
       "    (_swish): MemoryEfficientSwish()\n",
       "  )\n",
       "  (relu0): ReLU()\n",
       "  (fc): Linear(in_features=1000, out_features=2, bias=True)\n",
       ")"
      ]
     },
     "metadata": {},
     "execution_count": 15
    }
   ],
   "source": [
    "PATH = './model/efficientnet-b4_20201011-232220_0.001_0_0.45149814031926444_0.4434005710601455'\n",
    "new_net = utils.Net()\n",
    "new_net.load_state_dict(torch.load(PATH))\n",
    "new_net.to(device)\n",
    "new_net.eval()"
   ]
  },
  {
   "cell_type": "code",
   "execution_count": 16,
   "metadata": {},
   "outputs": [
    {
     "output_type": "display_data",
     "data": {
      "text/plain": "HBox(children=(HTML(value=''), FloatProgress(value=0.0, max=1440.0), HTML(value='')))",
      "application/vnd.jupyter.widget-view+json": {
       "version_major": 2,
       "version_minor": 0,
       "model_id": "d33397d198fc43e491c24ab8cdd12772"
      }
     },
     "metadata": {}
    },
    {
     "output_type": "stream",
     "name": "stdout",
     "text": [
      "\nTraining prediction:\n(array([0., 1.]), array([14580, 31498])) (array([0., 1.]), array([31816, 14262]))\n[1. 1. 1. 1. 1. 0. 1. 1. 1. 0.] [1. 0. 1. 1. 0. 0. 1. 1. 0. 0.]\nF1 of model on train set:  0.4508741258741259\nPrecision: 0.3275128579592355, Recall: 0.723320712382555, F1: 0.4508741258741259\n"
     ]
    }
   ],
   "source": [
    "# Training score\n",
    "y_pred_train = np.array([])\n",
    "y_true_train = np.array([])\n",
    "with torch.no_grad():\n",
    "    for data_test in tqdm(trainloader):\n",
    "        images, labels = data_test[0].to(device), data_test[1].to(device)\n",
    "        outputs = new_net(images)\n",
    "\n",
    "        _, y_pred_tag = torch.max(outputs, 1)\n",
    "        y_pred_train = np.hstack([y_pred_train, y_pred_tag.cpu().detach().numpy()])\n",
    "\n",
    "        y_true_train = np.hstack([y_true_train, labels.cpu().detach().numpy()])\n",
    "\n",
    "precision_train, recall_train, f1_train, support_train = precision_recall_fscore_support(y_true_train, y_pred_train, average='binary')\n",
    "\n",
    "print()\n",
    "print(\"Training prediction:\")\n",
    "print(np.unique(y_pred_train, return_counts=True), np.unique(y_true_train, return_counts=True))\n",
    "print(y_pred_train[0:10], y_true_train[0:10])\n",
    "print(\"F1 of model on train set: \", f1_score(y_true_train, y_pred_train, average='binary'))\n",
    "print(\"Precision: {}, Recall: {}, F1: {}\".format(precision_train, recall_train, f1_train))"
   ]
  },
  {
   "cell_type": "code",
   "execution_count": 17,
   "metadata": {},
   "outputs": [
    {
     "output_type": "display_data",
     "data": {
      "text/plain": "HBox(children=(HTML(value=''), FloatProgress(value=0.0, max=360.0), HTML(value='')))",
      "application/vnd.jupyter.widget-view+json": {
       "version_major": 2,
       "version_minor": 0,
       "model_id": "6d1f10e0433a4444858217d1300ed5c0"
      }
     },
     "metadata": {}
    },
    {
     "output_type": "stream",
     "name": "stdout",
     "text": [
      "Testing prediction:\n(array([0., 1.]), array([3465, 8054])) (array([0., 1.]), array([7954, 3565]))\n[1. 0. 1. 1. 1. 0. 1. 0. 1. 1.] [1. 1. 1. 1. 1. 1. 1. 1. 1. 1.]\nF1 of my model on test set:  0.44857560891643006\nPrecision: 0.3235659299726844, Recall: 0.7309957924263675, F1: 0.44857560891643006\n"
     ]
    }
   ],
   "source": [
    "# Testing score\n",
    "y_pred_test = np.array([])\n",
    "y_true_test = np.array([])\n",
    "with torch.no_grad():\n",
    "    for data_test in tqdm(testloader):\n",
    "        images, labels = data_test[0].to(device), data_test[1].to(device)\n",
    "        outputs = new_net(images)\n",
    "\n",
    "        _, y_pred_tag = torch.max(outputs, 1)\n",
    "        y_pred_test = np.hstack([y_pred_test, y_pred_tag.cpu().detach().numpy()])\n",
    "            \n",
    "        y_true_test = np.hstack([y_true_test, labels.cpu().detach().numpy()])\n",
    "\n",
    "precision_test, recall_test, f1_test, support_test = precision_recall_fscore_support(y_true_test, y_pred_test, average='binary')\n",
    "\n",
    "print(\"Testing prediction:\")\n",
    "print(np.unique(y_pred_test, return_counts=True), np.unique(y_true_test, return_counts=True))\n",
    "print(y_pred_test[0:10], y_true_test[0:10])\n",
    "print(\"F1 of my model on test set: \", f1_score(y_true_test, y_pred_test, average='binary'))\n",
    "print(\"Precision: {}, Recall: {}, F1: {}\".format(precision_test, recall_test, f1_test))"
   ]
  },
  {
   "cell_type": "code",
   "execution_count": 2,
   "metadata": {
    "tags": [
     "outputPrepend"
    ]
   },
   "outputs": [
    {
     "output_type": "stream",
     "name": "stdout",
     "text": [
      ")\n  (15): MBConvBlock(\n    (_expand_conv): Conv2dStaticSamePadding(\n      112, 672, kernel_size=(1, 1), stride=(1, 1), bias=False\n      (static_padding): Identity()\n    )\n    (_bn0): BatchNorm2d(672, eps=0.001, momentum=0.010000000000000009, affine=True, track_running_stats=True)\n    (_depthwise_conv): Conv2dStaticSamePadding(\n      672, 672, kernel_size=(3, 3), stride=(1, 1), groups=672, bias=False\n      (static_padding): ZeroPad2d(padding=(1, 1, 1, 1), value=0.0)\n    )\n    (_bn1): BatchNorm2d(672, eps=0.001, momentum=0.010000000000000009, affine=True, track_running_stats=True)\n    (_se_reduce): Conv2dStaticSamePadding(\n      672, 28, kernel_size=(1, 1), stride=(1, 1)\n      (static_padding): Identity()\n    )\n    (_se_expand): Conv2dStaticSamePadding(\n      28, 672, kernel_size=(1, 1), stride=(1, 1)\n      (static_padding): Identity()\n    )\n    (_project_conv): Conv2dStaticSamePadding(\n      672, 112, kernel_size=(1, 1), stride=(1, 1), bias=False\n      (static_padding): Identity()\n    )\n    (_bn2): BatchNorm2d(112, eps=0.001, momentum=0.010000000000000009, affine=True, track_running_stats=True)\n    (_swish): MemoryEfficientSwish()\n  )\n  (16): MBConvBlock(\n    (_expand_conv): Conv2dStaticSamePadding(\n      112, 672, kernel_size=(1, 1), stride=(1, 1), bias=False\n      (static_padding): Identity()\n    )\n    (_bn0): BatchNorm2d(672, eps=0.001, momentum=0.010000000000000009, affine=True, track_running_stats=True)\n    (_depthwise_conv): Conv2dStaticSamePadding(\n      672, 672, kernel_size=(5, 5), stride=[1, 1], groups=672, bias=False\n      (static_padding): ZeroPad2d(padding=(2, 2, 2, 2), value=0.0)\n    )\n    (_bn1): BatchNorm2d(672, eps=0.001, momentum=0.010000000000000009, affine=True, track_running_stats=True)\n    (_se_reduce): Conv2dStaticSamePadding(\n      672, 28, kernel_size=(1, 1), stride=(1, 1)\n      (static_padding): Identity()\n    )\n    (_se_expand): Conv2dStaticSamePadding(\n      28, 672, kernel_size=(1, 1), stride=(1, 1)\n      (static_padding): Identity()\n    )\n    (_project_conv): Conv2dStaticSamePadding(\n      672, 160, kernel_size=(1, 1), stride=(1, 1), bias=False\n      (static_padding): Identity()\n    )\n    (_bn2): BatchNorm2d(160, eps=0.001, momentum=0.010000000000000009, affine=True, track_running_stats=True)\n    (_swish): MemoryEfficientSwish()\n  )\n  (17): MBConvBlock(\n    (_expand_conv): Conv2dStaticSamePadding(\n      160, 960, kernel_size=(1, 1), stride=(1, 1), bias=False\n      (static_padding): Identity()\n    )\n    (_bn0): BatchNorm2d(960, eps=0.001, momentum=0.010000000000000009, affine=True, track_running_stats=True)\n    (_depthwise_conv): Conv2dStaticSamePadding(\n      960, 960, kernel_size=(5, 5), stride=(1, 1), groups=960, bias=False\n      (static_padding): ZeroPad2d(padding=(2, 2, 2, 2), value=0.0)\n    )\n    (_bn1): BatchNorm2d(960, eps=0.001, momentum=0.010000000000000009, affine=True, track_running_stats=True)\n    (_se_reduce): Conv2dStaticSamePadding(\n      960, 40, kernel_size=(1, 1), stride=(1, 1)\n      (static_padding): Identity()\n    )\n    (_se_expand): Conv2dStaticSamePadding(\n      40, 960, kernel_size=(1, 1), stride=(1, 1)\n      (static_padding): Identity()\n    )\n    (_project_conv): Conv2dStaticSamePadding(\n      960, 160, kernel_size=(1, 1), stride=(1, 1), bias=False\n      (static_padding): Identity()\n    )\n    (_bn2): BatchNorm2d(160, eps=0.001, momentum=0.010000000000000009, affine=True, track_running_stats=True)\n    (_swish): MemoryEfficientSwish()\n  )\n  (18): MBConvBlock(\n    (_expand_conv): Conv2dStaticSamePadding(\n      160, 960, kernel_size=(1, 1), stride=(1, 1), bias=False\n      (static_padding): Identity()\n    )\n    (_bn0): BatchNorm2d(960, eps=0.001, momentum=0.010000000000000009, affine=True, track_running_stats=True)\n    (_depthwise_conv): Conv2dStaticSamePadding(\n      960, 960, kernel_size=(5, 5), stride=(1, 1), groups=960, bias=False\n      (static_padding): ZeroPad2d(padding=(2, 2, 2, 2), value=0.0)\n    )\n    (_bn1): BatchNorm2d(960, eps=0.001, momentum=0.010000000000000009, affine=True, track_running_stats=True)\n    (_se_reduce): Conv2dStaticSamePadding(\n      960, 40, kernel_size=(1, 1), stride=(1, 1)\n      (static_padding): Identity()\n    )\n    (_se_expand): Conv2dStaticSamePadding(\n      40, 960, kernel_size=(1, 1), stride=(1, 1)\n      (static_padding): Identity()\n    )\n    (_project_conv): Conv2dStaticSamePadding(\n      960, 160, kernel_size=(1, 1), stride=(1, 1), bias=False\n      (static_padding): Identity()\n    )\n    (_bn2): BatchNorm2d(160, eps=0.001, momentum=0.010000000000000009, affine=True, track_running_stats=True)\n    (_swish): MemoryEfficientSwish()\n  )\n  (19): MBConvBlock(\n    (_expand_conv): Conv2dStaticSamePadding(\n      160, 960, kernel_size=(1, 1), stride=(1, 1), bias=False\n      (static_padding): Identity()\n    )\n    (_bn0): BatchNorm2d(960, eps=0.001, momentum=0.010000000000000009, affine=True, track_running_stats=True)\n    (_depthwise_conv): Conv2dStaticSamePadding(\n      960, 960, kernel_size=(5, 5), stride=(1, 1), groups=960, bias=False\n      (static_padding): ZeroPad2d(padding=(2, 2, 2, 2), value=0.0)\n    )\n    (_bn1): BatchNorm2d(960, eps=0.001, momentum=0.010000000000000009, affine=True, track_running_stats=True)\n    (_se_reduce): Conv2dStaticSamePadding(\n      960, 40, kernel_size=(1, 1), stride=(1, 1)\n      (static_padding): Identity()\n    )\n    (_se_expand): Conv2dStaticSamePadding(\n      40, 960, kernel_size=(1, 1), stride=(1, 1)\n      (static_padding): Identity()\n    )\n    (_project_conv): Conv2dStaticSamePadding(\n      960, 160, kernel_size=(1, 1), stride=(1, 1), bias=False\n      (static_padding): Identity()\n    )\n    (_bn2): BatchNorm2d(160, eps=0.001, momentum=0.010000000000000009, affine=True, track_running_stats=True)\n    (_swish): MemoryEfficientSwish()\n  )\n  (20): MBConvBlock(\n    (_expand_conv): Conv2dStaticSamePadding(\n      160, 960, kernel_size=(1, 1), stride=(1, 1), bias=False\n      (static_padding): Identity()\n    )\n    (_bn0): BatchNorm2d(960, eps=0.001, momentum=0.010000000000000009, affine=True, track_running_stats=True)\n    (_depthwise_conv): Conv2dStaticSamePadding(\n      960, 960, kernel_size=(5, 5), stride=(1, 1), groups=960, bias=False\n      (static_padding): ZeroPad2d(padding=(2, 2, 2, 2), value=0.0)\n    )\n    (_bn1): BatchNorm2d(960, eps=0.001, momentum=0.010000000000000009, affine=True, track_running_stats=True)\n    (_se_reduce): Conv2dStaticSamePadding(\n      960, 40, kernel_size=(1, 1), stride=(1, 1)\n      (static_padding): Identity()\n    )\n    (_se_expand): Conv2dStaticSamePadding(\n      40, 960, kernel_size=(1, 1), stride=(1, 1)\n      (static_padding): Identity()\n    )\n    (_project_conv): Conv2dStaticSamePadding(\n      960, 160, kernel_size=(1, 1), stride=(1, 1), bias=False\n      (static_padding): Identity()\n    )\n    (_bn2): BatchNorm2d(160, eps=0.001, momentum=0.010000000000000009, affine=True, track_running_stats=True)\n    (_swish): MemoryEfficientSwish()\n  )\n  (21): MBConvBlock(\n    (_expand_conv): Conv2dStaticSamePadding(\n      160, 960, kernel_size=(1, 1), stride=(1, 1), bias=False\n      (static_padding): Identity()\n    )\n    (_bn0): BatchNorm2d(960, eps=0.001, momentum=0.010000000000000009, affine=True, track_running_stats=True)\n    (_depthwise_conv): Conv2dStaticSamePadding(\n      960, 960, kernel_size=(5, 5), stride=(1, 1), groups=960, bias=False\n      (static_padding): ZeroPad2d(padding=(2, 2, 2, 2), value=0.0)\n    )\n    (_bn1): BatchNorm2d(960, eps=0.001, momentum=0.010000000000000009, affine=True, track_running_stats=True)\n    (_se_reduce): Conv2dStaticSamePadding(\n      960, 40, kernel_size=(1, 1), stride=(1, 1)\n      (static_padding): Identity()\n    )\n    (_se_expand): Conv2dStaticSamePadding(\n      40, 960, kernel_size=(1, 1), stride=(1, 1)\n      (static_padding): Identity()\n    )\n    (_project_conv): Conv2dStaticSamePadding(\n      960, 160, kernel_size=(1, 1), stride=(1, 1), bias=False\n      (static_padding): Identity()\n    )\n    (_bn2): BatchNorm2d(160, eps=0.001, momentum=0.010000000000000009, affine=True, track_running_stats=True)\n    (_swish): MemoryEfficientSwish()\n  )\n  (22): MBConvBlock(\n    (_expand_conv): Conv2dStaticSamePadding(\n      160, 960, kernel_size=(1, 1), stride=(1, 1), bias=False\n      (static_padding): Identity()\n    )\n    (_bn0): BatchNorm2d(960, eps=0.001, momentum=0.010000000000000009, affine=True, track_running_stats=True)\n    (_depthwise_conv): Conv2dStaticSamePadding(\n      960, 960, kernel_size=(5, 5), stride=[2, 2], groups=960, bias=False\n      (static_padding): ZeroPad2d(padding=(2, 2, 2, 2), value=0.0)\n    )\n    (_bn1): BatchNorm2d(960, eps=0.001, momentum=0.010000000000000009, affine=True, track_running_stats=True)\n    (_se_reduce): Conv2dStaticSamePadding(\n      960, 40, kernel_size=(1, 1), stride=(1, 1)\n      (static_padding): Identity()\n    )\n    (_se_expand): Conv2dStaticSamePadding(\n      40, 960, kernel_size=(1, 1), stride=(1, 1)\n      (static_padding): Identity()\n    )\n    (_project_conv): Conv2dStaticSamePadding(\n      960, 272, kernel_size=(1, 1), stride=(1, 1), bias=False\n      (static_padding): Identity()\n    )\n    (_bn2): BatchNorm2d(272, eps=0.001, momentum=0.010000000000000009, affine=True, track_running_stats=True)\n    (_swish): MemoryEfficientSwish()\n  )\n  (23): MBConvBlock(\n    (_expand_conv): Conv2dStaticSamePadding(\n      272, 1632, kernel_size=(1, 1), stride=(1, 1), bias=False\n      (static_padding): Identity()\n    )\n    (_bn0): BatchNorm2d(1632, eps=0.001, momentum=0.010000000000000009, affine=True, track_running_stats=True)\n    (_depthwise_conv): Conv2dStaticSamePadding(\n      1632, 1632, kernel_size=(5, 5), stride=(1, 1), groups=1632, bias=False\n      (static_padding): ZeroPad2d(padding=(2, 2, 2, 2), value=0.0)\n    )\n    (_bn1): BatchNorm2d(1632, eps=0.001, momentum=0.010000000000000009, affine=True, track_running_stats=True)\n    (_se_reduce): Conv2dStaticSamePadding(\n      1632, 68, kernel_size=(1, 1), stride=(1, 1)\n      (static_padding): Identity()\n    )\n    (_se_expand): Conv2dStaticSamePadding(\n      68, 1632, kernel_size=(1, 1), stride=(1, 1)\n      (static_padding): Identity()\n    )\n    (_project_conv): Conv2dStaticSamePadding(\n      1632, 272, kernel_size=(1, 1), stride=(1, 1), bias=False\n      (static_padding): Identity()\n    )\n    (_bn2): BatchNorm2d(272, eps=0.001, momentum=0.010000000000000009, affine=True, track_running_stats=True)\n    (_swish): MemoryEfficientSwish()\n  )\n  (24): MBConvBlock(\n    (_expand_conv): Conv2dStaticSamePadding(\n      272, 1632, kernel_size=(1, 1), stride=(1, 1), bias=False\n      (static_padding): Identity()\n    )\n    (_bn0): BatchNorm2d(1632, eps=0.001, momentum=0.010000000000000009, affine=True, track_running_stats=True)\n    (_depthwise_conv): Conv2dStaticSamePadding(\n      1632, 1632, kernel_size=(5, 5), stride=(1, 1), groups=1632, bias=False\n      (static_padding): ZeroPad2d(padding=(2, 2, 2, 2), value=0.0)\n    )\n    (_bn1): BatchNorm2d(1632, eps=0.001, momentum=0.010000000000000009, affine=True, track_running_stats=True)\n    (_se_reduce): Conv2dStaticSamePadding(\n      1632, 68, kernel_size=(1, 1), stride=(1, 1)\n      (static_padding): Identity()\n    )\n    (_se_expand): Conv2dStaticSamePadding(\n      68, 1632, kernel_size=(1, 1), stride=(1, 1)\n      (static_padding): Identity()\n    )\n    (_project_conv): Conv2dStaticSamePadding(\n      1632, 272, kernel_size=(1, 1), stride=(1, 1), bias=False\n      (static_padding): Identity()\n    )\n    (_bn2): BatchNorm2d(272, eps=0.001, momentum=0.010000000000000009, affine=True, track_running_stats=True)\n    (_swish): MemoryEfficientSwish()\n  )\n  (25): MBConvBlock(\n    (_expand_conv): Conv2dStaticSamePadding(\n      272, 1632, kernel_size=(1, 1), stride=(1, 1), bias=False\n      (static_padding): Identity()\n    )\n    (_bn0): BatchNorm2d(1632, eps=0.001, momentum=0.010000000000000009, affine=True, track_running_stats=True)\n    (_depthwise_conv): Conv2dStaticSamePadding(\n      1632, 1632, kernel_size=(5, 5), stride=(1, 1), groups=1632, bias=False\n      (static_padding): ZeroPad2d(padding=(2, 2, 2, 2), value=0.0)\n    )\n    (_bn1): BatchNorm2d(1632, eps=0.001, momentum=0.010000000000000009, affine=True, track_running_stats=True)\n    (_se_reduce): Conv2dStaticSamePadding(\n      1632, 68, kernel_size=(1, 1), stride=(1, 1)\n      (static_padding): Identity()\n    )\n    (_se_expand): Conv2dStaticSamePadding(\n      68, 1632, kernel_size=(1, 1), stride=(1, 1)\n      (static_padding): Identity()\n    )\n    (_project_conv): Conv2dStaticSamePadding(\n      1632, 272, kernel_size=(1, 1), stride=(1, 1), bias=False\n      (static_padding): Identity()\n    )\n    (_bn2): BatchNorm2d(272, eps=0.001, momentum=0.010000000000000009, affine=True, track_running_stats=True)\n    (_swish): MemoryEfficientSwish()\n  )\n  (26): MBConvBlock(\n    (_expand_conv): Conv2dStaticSamePadding(\n      272, 1632, kernel_size=(1, 1), stride=(1, 1), bias=False\n      (static_padding): Identity()\n    )\n    (_bn0): BatchNorm2d(1632, eps=0.001, momentum=0.010000000000000009, affine=True, track_running_stats=True)\n    (_depthwise_conv): Conv2dStaticSamePadding(\n      1632, 1632, kernel_size=(5, 5), stride=(1, 1), groups=1632, bias=False\n      (static_padding): ZeroPad2d(padding=(2, 2, 2, 2), value=0.0)\n    )\n    (_bn1): BatchNorm2d(1632, eps=0.001, momentum=0.010000000000000009, affine=True, track_running_stats=True)\n    (_se_reduce): Conv2dStaticSamePadding(\n      1632, 68, kernel_size=(1, 1), stride=(1, 1)\n      (static_padding): Identity()\n    )\n    (_se_expand): Conv2dStaticSamePadding(\n      68, 1632, kernel_size=(1, 1), stride=(1, 1)\n      (static_padding): Identity()\n    )\n    (_project_conv): Conv2dStaticSamePadding(\n      1632, 272, kernel_size=(1, 1), stride=(1, 1), bias=False\n      (static_padding): Identity()\n    )\n    (_bn2): BatchNorm2d(272, eps=0.001, momentum=0.010000000000000009, affine=True, track_running_stats=True)\n    (_swish): MemoryEfficientSwish()\n  )\n  (27): MBConvBlock(\n    (_expand_conv): Conv2dStaticSamePadding(\n      272, 1632, kernel_size=(1, 1), stride=(1, 1), bias=False\n      (static_padding): Identity()\n    )\n    (_bn0): BatchNorm2d(1632, eps=0.001, momentum=0.010000000000000009, affine=True, track_running_stats=True)\n    (_depthwise_conv): Conv2dStaticSamePadding(\n      1632, 1632, kernel_size=(5, 5), stride=(1, 1), groups=1632, bias=False\n      (static_padding): ZeroPad2d(padding=(2, 2, 2, 2), value=0.0)\n    )\n    (_bn1): BatchNorm2d(1632, eps=0.001, momentum=0.010000000000000009, affine=True, track_running_stats=True)\n    (_se_reduce): Conv2dStaticSamePadding(\n      1632, 68, kernel_size=(1, 1), stride=(1, 1)\n      (static_padding): Identity()\n    )\n    (_se_expand): Conv2dStaticSamePadding(\n      68, 1632, kernel_size=(1, 1), stride=(1, 1)\n      (static_padding): Identity()\n    )\n    (_project_conv): Conv2dStaticSamePadding(\n      1632, 272, kernel_size=(1, 1), stride=(1, 1), bias=False\n      (static_padding): Identity()\n    )\n    (_bn2): BatchNorm2d(272, eps=0.001, momentum=0.010000000000000009, affine=True, track_running_stats=True)\n    (_swish): MemoryEfficientSwish()\n  )\n  (28): MBConvBlock(\n    (_expand_conv): Conv2dStaticSamePadding(\n      272, 1632, kernel_size=(1, 1), stride=(1, 1), bias=False\n      (static_padding): Identity()\n    )\n    (_bn0): BatchNorm2d(1632, eps=0.001, momentum=0.010000000000000009, affine=True, track_running_stats=True)\n    (_depthwise_conv): Conv2dStaticSamePadding(\n      1632, 1632, kernel_size=(5, 5), stride=(1, 1), groups=1632, bias=False\n      (static_padding): ZeroPad2d(padding=(2, 2, 2, 2), value=0.0)\n    )\n    (_bn1): BatchNorm2d(1632, eps=0.001, momentum=0.010000000000000009, affine=True, track_running_stats=True)\n    (_se_reduce): Conv2dStaticSamePadding(\n      1632, 68, kernel_size=(1, 1), stride=(1, 1)\n      (static_padding): Identity()\n    )\n    (_se_expand): Conv2dStaticSamePadding(\n      68, 1632, kernel_size=(1, 1), stride=(1, 1)\n      (static_padding): Identity()\n    )\n    (_project_conv): Conv2dStaticSamePadding(\n      1632, 272, kernel_size=(1, 1), stride=(1, 1), bias=False\n      (static_padding): Identity()\n    )\n    (_bn2): BatchNorm2d(272, eps=0.001, momentum=0.010000000000000009, affine=True, track_running_stats=True)\n    (_swish): MemoryEfficientSwish()\n  )\n  (29): MBConvBlock(\n    (_expand_conv): Conv2dStaticSamePadding(\n      272, 1632, kernel_size=(1, 1), stride=(1, 1), bias=False\n      (static_padding): Identity()\n    )\n    (_bn0): BatchNorm2d(1632, eps=0.001, momentum=0.010000000000000009, affine=True, track_running_stats=True)\n    (_depthwise_conv): Conv2dStaticSamePadding(\n      1632, 1632, kernel_size=(5, 5), stride=(1, 1), groups=1632, bias=False\n      (static_padding): ZeroPad2d(padding=(2, 2, 2, 2), value=0.0)\n    )\n    (_bn1): BatchNorm2d(1632, eps=0.001, momentum=0.010000000000000009, affine=True, track_running_stats=True)\n    (_se_reduce): Conv2dStaticSamePadding(\n      1632, 68, kernel_size=(1, 1), stride=(1, 1)\n      (static_padding): Identity()\n    )\n    (_se_expand): Conv2dStaticSamePadding(\n      68, 1632, kernel_size=(1, 1), stride=(1, 1)\n      (static_padding): Identity()\n    )\n    (_project_conv): Conv2dStaticSamePadding(\n      1632, 272, kernel_size=(1, 1), stride=(1, 1), bias=False\n      (static_padding): Identity()\n    )\n    (_bn2): BatchNorm2d(272, eps=0.001, momentum=0.010000000000000009, affine=True, track_running_stats=True)\n    (_swish): MemoryEfficientSwish()\n  )\n  (30): MBConvBlock(\n    (_expand_conv): Conv2dStaticSamePadding(\n      272, 1632, kernel_size=(1, 1), stride=(1, 1), bias=False\n      (static_padding): Identity()\n    )\n    (_bn0): BatchNorm2d(1632, eps=0.001, momentum=0.010000000000000009, affine=True, track_running_stats=True)\n    (_depthwise_conv): Conv2dStaticSamePadding(\n      1632, 1632, kernel_size=(3, 3), stride=[1, 1], groups=1632, bias=False\n      (static_padding): ZeroPad2d(padding=(1, 1, 1, 1), value=0.0)\n    )\n    (_bn1): BatchNorm2d(1632, eps=0.001, momentum=0.010000000000000009, affine=True, track_running_stats=True)\n    (_se_reduce): Conv2dStaticSamePadding(\n      1632, 68, kernel_size=(1, 1), stride=(1, 1)\n      (static_padding): Identity()\n    )\n    (_se_expand): Conv2dStaticSamePadding(\n      68, 1632, kernel_size=(1, 1), stride=(1, 1)\n      (static_padding): Identity()\n    )\n    (_project_conv): Conv2dStaticSamePadding(\n      1632, 448, kernel_size=(1, 1), stride=(1, 1), bias=False\n      (static_padding): Identity()\n    )\n    (_bn2): BatchNorm2d(448, eps=0.001, momentum=0.010000000000000009, affine=True, track_running_stats=True)\n    (_swish): MemoryEfficientSwish()\n  )\n  (31): MBConvBlock(\n    (_expand_conv): Conv2dStaticSamePadding(\n      448, 2688, kernel_size=(1, 1), stride=(1, 1), bias=False\n      (static_padding): Identity()\n    )\n    (_bn0): BatchNorm2d(2688, eps=0.001, momentum=0.010000000000000009, affine=True, track_running_stats=True)\n    (_depthwise_conv): Conv2dStaticSamePadding(\n      2688, 2688, kernel_size=(3, 3), stride=(1, 1), groups=2688, bias=False\n      (static_padding): ZeroPad2d(padding=(1, 1, 1, 1), value=0.0)\n    )\n    (_bn1): BatchNorm2d(2688, eps=0.001, momentum=0.010000000000000009, affine=True, track_running_stats=True)\n    (_se_reduce): Conv2dStaticSamePadding(\n      2688, 112, kernel_size=(1, 1), stride=(1, 1)\n      (static_padding): Identity()\n    )\n    (_se_expand): Conv2dStaticSamePadding(\n      112, 2688, kernel_size=(1, 1), stride=(1, 1)\n      (static_padding): Identity()\n    )\n    (_project_conv): Conv2dStaticSamePadding(\n      2688, 448, kernel_size=(1, 1), stride=(1, 1), bias=False\n      (static_padding): Identity()\n    )\n    (_bn2): BatchNorm2d(448, eps=0.001, momentum=0.010000000000000009, affine=True, track_running_stats=True)\n    (_swish): MemoryEfficientSwish()\n  )\n)\n\nConv2dStaticSamePadding(\n  448, 1792, kernel_size=(1, 1), stride=(1, 1), bias=False\n  (static_padding): Identity()\n)\n\nBatchNorm2d(1792, eps=0.001, momentum=0.010000000000000009, affine=True, track_running_stats=True)\n\nAdaptiveAvgPool2d(output_size=1)\n\nDropout(p=0.4, inplace=False)\n\nLinear(in_features=1792, out_features=1000, bias=True)\n\nMemoryEfficientSwish()\n"
     ]
    }
   ],
   "source": [
    "new_net = utils.Net()"
   ]
  },
  {
   "cell_type": "code",
   "execution_count": 3,
   "metadata": {},
   "outputs": [
    {
     "output_type": "execute_result",
     "data": {
      "text/plain": [
       "9"
      ]
     },
     "metadata": {},
     "execution_count": 3
    }
   ],
   "source": [
    "new_net.layer_cnt"
   ]
  },
  {
   "cell_type": "code",
   "execution_count": null,
   "metadata": {},
   "outputs": [],
   "source": []
  }
 ]
}